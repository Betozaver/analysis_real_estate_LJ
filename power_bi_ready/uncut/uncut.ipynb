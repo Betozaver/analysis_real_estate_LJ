{
 "cells": [
  {
   "cell_type": "code",
   "execution_count": 1,
   "id": "64c85996",
   "metadata": {},
   "outputs": [
    {
     "name": "stdout",
     "output_type": "stream",
     "text": [
      "Requirement already satisfied: pandas in c:\\users\\gaj\\appdata\\local\\programs\\python\\python311\\lib\\site-packages (2.3.0)\n",
      "Requirement already satisfied: numpy>=1.23.2 in c:\\users\\gaj\\appdata\\local\\programs\\python\\python311\\lib\\site-packages (from pandas) (2.3.0)\n",
      "Requirement already satisfied: python-dateutil>=2.8.2 in c:\\users\\gaj\\appdata\\roaming\\python\\python311\\site-packages (from pandas) (2.9.0.post0)\n",
      "Requirement already satisfied: pytz>=2020.1 in c:\\users\\gaj\\appdata\\local\\programs\\python\\python311\\lib\\site-packages (from pandas) (2025.2)\n",
      "Requirement already satisfied: tzdata>=2022.7 in c:\\users\\gaj\\appdata\\local\\programs\\python\\python311\\lib\\site-packages (from pandas) (2025.2)\n",
      "Requirement already satisfied: six>=1.5 in c:\\users\\gaj\\appdata\\roaming\\python\\python311\\site-packages (from python-dateutil>=2.8.2->pandas) (1.17.0)\n",
      "Note: you may need to restart the kernel to use updated packages.\n"
     ]
    }
   ],
   "source": [
    "%pip install pandas\n",
    "import pandas as pd"
   ]
  },
  {
   "cell_type": "code",
   "execution_count": 13,
   "id": "44ed3397",
   "metadata": {},
   "outputs": [
    {
     "name": "stdout",
     "output_type": "stream",
     "text": [
      "Requirement already satisfied: numpy in c:\\users\\gaj\\appdata\\local\\programs\\python\\python311\\lib\\site-packages (2.3.0)\n",
      "Note: you may need to restart the kernel to use updated packages.\n"
     ]
    }
   ],
   "source": [
    "%pip install numpy\n",
    "import numpy as np"
   ]
  },
  {
   "cell_type": "code",
   "execution_count": 2,
   "id": "635cabac",
   "metadata": {},
   "outputs": [],
   "source": [
    "df = pd.read_csv(r\"D:\\projects_Sara\\analysis_real_estate_LJ\\clean_GURS\\new_prodaja2014.csv\", sep=\",\", encoding=\"utf-8\",)\n",
    "df1 = pd.read_csv(r\"D:\\projects_Sara\\analysis_real_estate_LJ\\clean_GURS\\new_prodaja2015.csv\", sep=\",\", encoding=\"utf-8\",)\n",
    "df2 = pd.read_csv(r\"D:\\projects_Sara\\analysis_real_estate_LJ\\clean_GURS\\new_prodaja2016.csv\", sep=\",\", encoding=\"utf-8\",)\n",
    "df3 = pd.read_csv(r\"D:\\projects_Sara\\analysis_real_estate_LJ\\clean_GURS\\new_prodaja2017.csv\", sep=\",\", encoding=\"utf-8\",)\n",
    "df4 = pd.read_csv(r\"D:\\projects_Sara\\analysis_real_estate_LJ\\clean_GURS\\new_prodaja2018.csv\", sep=\",\", encoding=\"utf-8\",)\n",
    "df5 = pd.read_csv(r\"D:\\projects_Sara\\analysis_real_estate_LJ\\clean_GURS\\new_prodaja2019.csv\", sep=\",\", encoding=\"utf-8\",)\n",
    "df6 = pd.read_csv(r\"D:\\projects_Sara\\analysis_real_estate_LJ\\clean_GURS\\new_prodaja2020.csv\", sep=\",\", encoding=\"utf-8\",)\n",
    "df7 = pd.read_csv(r\"D:\\projects_Sara\\analysis_real_estate_LJ\\clean_GURS\\new_prodaja2021.csv\", sep=\",\", encoding=\"utf-8\",)\n",
    "df8 = pd.read_csv(r\"D:\\projects_Sara\\analysis_real_estate_LJ\\clean_GURS\\new_prodaja2022.csv\", sep=\",\", encoding=\"utf-8\",)\n",
    "df9 = pd.read_csv(r\"D:\\projects_Sara\\analysis_real_estate_LJ\\clean_GURS\\new_prodaja2023.csv\", sep=\",\", encoding=\"utf-8\",)\n",
    "df0 = pd.read_csv(r\"D:\\projects_Sara\\analysis_real_estate_LJ\\clean_GURS\\new_prodaja2024.csv\", sep=\",\", encoding=\"utf-8\",)"
   ]
  },
  {
   "cell_type": "code",
   "execution_count": 3,
   "id": "45f69285",
   "metadata": {},
   "outputs": [
    {
     "name": "stdout",
     "output_type": "stream",
     "text": [
      "(31663, 9)\n",
      "[2014 2015 2016 2017 2018 2019 2020 2021 2022 2023 2024]\n"
     ]
    }
   ],
   "source": [
    "# merge\n",
    "\n",
    "# 1) Put them in a list\n",
    "dfs = [df, df1, df2, df3, df4, df5, df6, df7, df8, df9, df0]\n",
    "\n",
    "# 2) Concatenate into one DataFrame\n",
    "uncut_full_df = pd.concat(dfs, ignore_index=True)\n",
    "\n",
    "# 3) (Optional) verify\n",
    "print(uncut_full_df.shape)         # rows should equal sum of all individual dfs\n",
    "print(uncut_full_df['LETO'].unique())  # you should see [2014, …, 2024]"
   ]
  },
  {
   "cell_type": "code",
   "execution_count": 4,
   "id": "d3adf949",
   "metadata": {},
   "outputs": [
    {
     "data": {
      "text/html": [
       "<div>\n",
       "<style scoped>\n",
       "    .dataframe tbody tr th:only-of-type {\n",
       "        vertical-align: middle;\n",
       "    }\n",
       "\n",
       "    .dataframe tbody tr th {\n",
       "        vertical-align: top;\n",
       "    }\n",
       "\n",
       "    .dataframe thead th {\n",
       "        text-align: right;\n",
       "    }\n",
       "</style>\n",
       "<table border=\"1\" class=\"dataframe\">\n",
       "  <thead>\n",
       "    <tr style=\"text-align: right;\">\n",
       "      <th></th>\n",
       "      <th>leto_izgradnje</th>\n",
       "      <th>total_m2</th>\n",
       "      <th>living_space</th>\n",
       "      <th>LETO</th>\n",
       "      <th>cena</th>\n",
       "      <th>novogradnja</th>\n",
       "      <th>house_or_apartment</th>\n",
       "    </tr>\n",
       "  </thead>\n",
       "  <tbody>\n",
       "    <tr>\n",
       "      <th>count</th>\n",
       "      <td>31663.000000</td>\n",
       "      <td>31663.000000</td>\n",
       "      <td>31619.000000</td>\n",
       "      <td>31663.000000</td>\n",
       "      <td>3.166100e+04</td>\n",
       "      <td>4576.000000</td>\n",
       "      <td>31663.000000</td>\n",
       "    </tr>\n",
       "    <tr>\n",
       "      <th>mean</th>\n",
       "      <td>1971.518207</td>\n",
       "      <td>80.513388</td>\n",
       "      <td>62.122069</td>\n",
       "      <td>2018.749424</td>\n",
       "      <td>1.751222e+05</td>\n",
       "      <td>0.938811</td>\n",
       "      <td>1.874206</td>\n",
       "    </tr>\n",
       "    <tr>\n",
       "      <th>std</th>\n",
       "      <td>48.331064</td>\n",
       "      <td>58.134560</td>\n",
       "      <td>36.661801</td>\n",
       "      <td>3.128953</td>\n",
       "      <td>1.775134e+05</td>\n",
       "      <td>0.239703</td>\n",
       "      <td>0.331622</td>\n",
       "    </tr>\n",
       "    <tr>\n",
       "      <th>min</th>\n",
       "      <td>23.000000</td>\n",
       "      <td>0.000000</td>\n",
       "      <td>0.000000</td>\n",
       "      <td>2014.000000</td>\n",
       "      <td>0.000000e+00</td>\n",
       "      <td>0.000000</td>\n",
       "      <td>1.000000</td>\n",
       "    </tr>\n",
       "    <tr>\n",
       "      <th>25%</th>\n",
       "      <td>1962.000000</td>\n",
       "      <td>46.000000</td>\n",
       "      <td>39.000000</td>\n",
       "      <td>2016.000000</td>\n",
       "      <td>9.400000e+04</td>\n",
       "      <td>1.000000</td>\n",
       "      <td>2.000000</td>\n",
       "    </tr>\n",
       "    <tr>\n",
       "      <th>50%</th>\n",
       "      <td>1975.000000</td>\n",
       "      <td>65.100000</td>\n",
       "      <td>56.000000</td>\n",
       "      <td>2019.000000</td>\n",
       "      <td>1.420000e+05</td>\n",
       "      <td>1.000000</td>\n",
       "      <td>2.000000</td>\n",
       "    </tr>\n",
       "    <tr>\n",
       "      <th>75%</th>\n",
       "      <td>1999.000000</td>\n",
       "      <td>92.000000</td>\n",
       "      <td>74.700000</td>\n",
       "      <td>2021.000000</td>\n",
       "      <td>2.140000e+05</td>\n",
       "      <td>1.000000</td>\n",
       "      <td>2.000000</td>\n",
       "    </tr>\n",
       "    <tr>\n",
       "      <th>max</th>\n",
       "      <td>2032.000000</td>\n",
       "      <td>1056.100000</td>\n",
       "      <td>677.000000</td>\n",
       "      <td>2024.000000</td>\n",
       "      <td>1.581056e+07</td>\n",
       "      <td>1.000000</td>\n",
       "      <td>2.000000</td>\n",
       "    </tr>\n",
       "  </tbody>\n",
       "</table>\n",
       "</div>"
      ],
      "text/plain": [
       "       leto_izgradnje      total_m2  living_space          LETO          cena  \\\n",
       "count    31663.000000  31663.000000  31619.000000  31663.000000  3.166100e+04   \n",
       "mean      1971.518207     80.513388     62.122069   2018.749424  1.751222e+05   \n",
       "std         48.331064     58.134560     36.661801      3.128953  1.775134e+05   \n",
       "min         23.000000      0.000000      0.000000   2014.000000  0.000000e+00   \n",
       "25%       1962.000000     46.000000     39.000000   2016.000000  9.400000e+04   \n",
       "50%       1975.000000     65.100000     56.000000   2019.000000  1.420000e+05   \n",
       "75%       1999.000000     92.000000     74.700000   2021.000000  2.140000e+05   \n",
       "max       2032.000000   1056.100000    677.000000   2024.000000  1.581056e+07   \n",
       "\n",
       "       novogradnja  house_or_apartment  \n",
       "count  4576.000000        31663.000000  \n",
       "mean      0.938811            1.874206  \n",
       "std       0.239703            0.331622  \n",
       "min       0.000000            1.000000  \n",
       "25%       1.000000            2.000000  \n",
       "50%       1.000000            2.000000  \n",
       "75%       1.000000            2.000000  \n",
       "max       1.000000            2.000000  "
      ]
     },
     "execution_count": 4,
     "metadata": {},
     "output_type": "execute_result"
    }
   ],
   "source": [
    "uncut_full_df.describe()"
   ]
  },
  {
   "cell_type": "code",
   "execution_count": 5,
   "id": "00a24cd4",
   "metadata": {},
   "outputs": [],
   "source": [
    "uncut_full_df['price_per_m2'] = uncut_full_df['cena'] / uncut_full_df['total_m2']"
   ]
  },
  {
   "cell_type": "code",
   "execution_count": 6,
   "id": "4f1d687f",
   "metadata": {},
   "outputs": [
    {
     "name": "stdout",
     "output_type": "stream",
     "text": [
      "<class 'pandas.core.frame.DataFrame'>\n",
      "RangeIndex: 31663 entries, 0 to 31662\n",
      "Data columns (total 10 columns):\n",
      " #   Column              Non-Null Count  Dtype  \n",
      "---  ------              --------------  -----  \n",
      " 0   mestna_cetrt        31663 non-null  object \n",
      " 1   naselje             31474 non-null  object \n",
      " 2   leto_izgradnje      31663 non-null  int64  \n",
      " 3   total_m2            31663 non-null  float64\n",
      " 4   living_space        31619 non-null  float64\n",
      " 5   LETO                31663 non-null  int64  \n",
      " 6   cena                31661 non-null  float64\n",
      " 7   novogradnja         4576 non-null   float64\n",
      " 8   house_or_apartment  31663 non-null  int64  \n",
      " 9   price_per_m2        31661 non-null  float64\n",
      "dtypes: float64(5), int64(3), object(2)\n",
      "memory usage: 2.4+ MB\n"
     ]
    }
   ],
   "source": [
    "uncut_full_df.info()"
   ]
  },
  {
   "cell_type": "code",
   "execution_count": 9,
   "id": "ad371300",
   "metadata": {},
   "outputs": [
    {
     "data": {
      "text/html": [
       "<div>\n",
       "<style scoped>\n",
       "    .dataframe tbody tr th:only-of-type {\n",
       "        vertical-align: middle;\n",
       "    }\n",
       "\n",
       "    .dataframe tbody tr th {\n",
       "        vertical-align: top;\n",
       "    }\n",
       "\n",
       "    .dataframe thead th {\n",
       "        text-align: right;\n",
       "    }\n",
       "</style>\n",
       "<table border=\"1\" class=\"dataframe\">\n",
       "  <thead>\n",
       "    <tr style=\"text-align: right;\">\n",
       "      <th></th>\n",
       "      <th>mestna_cetrt</th>\n",
       "      <th>naselje</th>\n",
       "      <th>leto_izgradnje</th>\n",
       "      <th>total_m2</th>\n",
       "      <th>living_space</th>\n",
       "      <th>LETO</th>\n",
       "      <th>cena</th>\n",
       "      <th>novogradnja</th>\n",
       "      <th>house_or_apartment</th>\n",
       "      <th>price_per_m2</th>\n",
       "    </tr>\n",
       "  </thead>\n",
       "  <tbody>\n",
       "    <tr>\n",
       "      <th>12147</th>\n",
       "      <td>PODGORICA</td>\n",
       "      <td>LJUBLJANA</td>\n",
       "      <td>1990</td>\n",
       "      <td>0.0</td>\n",
       "      <td>0.0</td>\n",
       "      <td>2017</td>\n",
       "      <td>291600.0</td>\n",
       "      <td>NaN</td>\n",
       "      <td>1</td>\n",
       "      <td>inf</td>\n",
       "    </tr>\n",
       "    <tr>\n",
       "      <th>30941</th>\n",
       "      <td>VOLAVLJE</td>\n",
       "      <td>ZGORNJA BESNICA</td>\n",
       "      <td>1989</td>\n",
       "      <td>0.0</td>\n",
       "      <td>0.0</td>\n",
       "      <td>2024</td>\n",
       "      <td>33000.0</td>\n",
       "      <td>NaN</td>\n",
       "      <td>1</td>\n",
       "      <td>inf</td>\n",
       "    </tr>\n",
       "  </tbody>\n",
       "</table>\n",
       "</div>"
      ],
      "text/plain": [
       "      mestna_cetrt          naselje  leto_izgradnje  total_m2  living_space  \\\n",
       "12147    PODGORICA        LJUBLJANA            1990       0.0           0.0   \n",
       "30941     VOLAVLJE  ZGORNJA BESNICA            1989       0.0           0.0   \n",
       "\n",
       "       LETO      cena  novogradnja  house_or_apartment  price_per_m2  \n",
       "12147  2017  291600.0          NaN                   1           inf  \n",
       "30941  2024   33000.0          NaN                   1           inf  "
      ]
     },
     "execution_count": 9,
     "metadata": {},
     "output_type": "execute_result"
    }
   ],
   "source": [
    "#Printing the number of rows with missing values in 'm2_bruto' column\n",
    "uncut_full_df[uncut_full_df['total_m2']== 0]"
   ]
  },
  {
   "cell_type": "code",
   "execution_count": 10,
   "id": "008fee15",
   "metadata": {},
   "outputs": [
    {
     "data": {
      "text/plain": [
       "mestna_cetrt          45\n",
       "naselje               43\n",
       "leto_izgradnje        45\n",
       "total_m2              45\n",
       "living_space          45\n",
       "LETO                  45\n",
       "cena                  45\n",
       "novogradnja            5\n",
       "house_or_apartment    45\n",
       "dtype: int64"
      ]
     },
     "execution_count": 10,
     "metadata": {},
     "output_type": "execute_result"
    }
   ],
   "source": [
    "df[df['living_space'] == 0].count()"
   ]
  },
  {
   "cell_type": "code",
   "execution_count": 11,
   "id": "2617dd9a",
   "metadata": {},
   "outputs": [
    {
     "data": {
      "text/plain": [
       "mestna_cetrt          10\n",
       "naselje               10\n",
       "leto_izgradnje        10\n",
       "total_m2              10\n",
       "living_space           0\n",
       "LETO                  10\n",
       "cena                  10\n",
       "novogradnja            0\n",
       "house_or_apartment    10\n",
       "dtype: int64"
      ]
     },
     "execution_count": 11,
     "metadata": {},
     "output_type": "execute_result"
    }
   ],
   "source": [
    "df[df['living_space'].isna()].count()"
   ]
  },
  {
   "cell_type": "code",
   "execution_count": 14,
   "id": "3f47a3c6",
   "metadata": {},
   "outputs": [],
   "source": [
    "df['living_space'] = df['living_space'].replace(0, np.nan)"
   ]
  },
  {
   "cell_type": "code",
   "execution_count": 15,
   "id": "20913bd5",
   "metadata": {},
   "outputs": [],
   "source": [
    "# filling missing values in 'm2_neto' using DataFrame syntax\n",
    "df.fillna({'living_space': df['total_m2']}, inplace=True)"
   ]
  },
  {
   "cell_type": "code",
   "execution_count": 16,
   "id": "9064bfe4",
   "metadata": {},
   "outputs": [],
   "source": [
    "# checking all the zero values in the 'naselje' column and replacing them with NaN\n",
    "df.loc[df['naselje'] == 0, 'naselje'] = np.nan"
   ]
  },
  {
   "cell_type": "code",
   "execution_count": 17,
   "id": "fcbcecc3",
   "metadata": {},
   "outputs": [
    {
     "data": {
      "text/plain": [
       "mestna_cetrt          20\n",
       "naselje                0\n",
       "leto_izgradnje        20\n",
       "total_m2              20\n",
       "living_space          20\n",
       "LETO                  20\n",
       "cena                  20\n",
       "novogradnja            5\n",
       "house_or_apartment    20\n",
       "dtype: int64"
      ]
     },
     "execution_count": 17,
     "metadata": {},
     "output_type": "execute_result"
    }
   ],
   "source": [
    "# checking all the empty values in the 'naselje' column\n",
    "df[df['naselje'].isna()].count()"
   ]
  },
  {
   "cell_type": "code",
   "execution_count": 18,
   "id": "e8da955e",
   "metadata": {},
   "outputs": [],
   "source": [
    "# changing all the empty values in the 'naselje' column to 'ljubljana'\n",
    "df.fillna({'naselje': 'ljubljana'}, inplace=True)"
   ]
  },
  {
   "cell_type": "code",
   "execution_count": 19,
   "id": "923d011e",
   "metadata": {},
   "outputs": [
    {
     "name": "stdout",
     "output_type": "stream",
     "text": [
      "<class 'pandas.core.frame.DataFrame'>\n",
      "RangeIndex: 3300 entries, 0 to 3299\n",
      "Data columns (total 9 columns):\n",
      " #   Column              Non-Null Count  Dtype  \n",
      "---  ------              --------------  -----  \n",
      " 0   mestna_cetrt        3300 non-null   object \n",
      " 1   naselje             3300 non-null   object \n",
      " 2   leto_izgradnje      3300 non-null   int64  \n",
      " 3   total_m2            3300 non-null   int64  \n",
      " 4   living_space        3300 non-null   float64\n",
      " 5   LETO                3300 non-null   int64  \n",
      " 6   cena                3300 non-null   int64  \n",
      " 7   novogradnja         606 non-null    float64\n",
      " 8   house_or_apartment  3300 non-null   int64  \n",
      "dtypes: float64(2), int64(5), object(2)\n",
      "memory usage: 232.2+ KB\n"
     ]
    }
   ],
   "source": [
    "df.info()"
   ]
  },
  {
   "cell_type": "code",
   "execution_count": 21,
   "id": "a5f2a121",
   "metadata": {},
   "outputs": [],
   "source": [
    "df[\"newbuild\"] = df[\"leto_izgradnje\"] >= (df[\"LETO\"] - 2)"
   ]
  },
  {
   "cell_type": "code",
   "execution_count": 22,
   "id": "85c90443",
   "metadata": {},
   "outputs": [],
   "source": [
    "# 1) Uniform column names\n",
    "df.columns = df.columns.str.lower()\n",
    "\n",
    "# 2) Identify all object-dtype columns\n",
    "str_cols = df.select_dtypes(include=\"object\").columns\n",
    "\n",
    "# 3) Lowercase every value in those columns\n",
    "df[str_cols] = df[str_cols].apply(lambda col: col.str.lower())"
   ]
  },
  {
   "cell_type": "code",
   "execution_count": 23,
   "id": "a0717324",
   "metadata": {},
   "outputs": [],
   "source": [
    "# prepareing area columns and price column for Power BI\n",
    "uncut_full_df['total_m2'] = uncut_full_df['total_m2'].astype(str).str.replace('.', ',', regex=False)\n",
    "uncut_full_df['living_space'] = uncut_full_df['living_space'].astype(str).str.replace('.', ',', regex=False)\n",
    "uncut_full_df['cena'] = uncut_full_df['cena'].astype(str).str.replace('.', ',', regex=False)\n",
    "uncut_full_df['price_per_m2'] = uncut_full_df['price_per_m2'].astype(str).str.replace('.', ',', regex=False)"
   ]
  },
  {
   "cell_type": "code",
   "execution_count": 24,
   "id": "2bd5dcf8",
   "metadata": {},
   "outputs": [],
   "source": [
    "uncut_full_df.to_csv(r\"uncut_full_realestate.csv\", index=False, encoding=\"utf-8\", sep=\",\")"
   ]
  },
  {
   "cell_type": "code",
   "execution_count": null,
   "id": "d8bac401",
   "metadata": {},
   "outputs": [],
   "source": []
  }
 ],
 "metadata": {
  "kernelspec": {
   "display_name": "Python 3",
   "language": "python",
   "name": "python3"
  },
  "language_info": {
   "codemirror_mode": {
    "name": "ipython",
    "version": 3
   },
   "file_extension": ".py",
   "mimetype": "text/x-python",
   "name": "python",
   "nbconvert_exporter": "python",
   "pygments_lexer": "ipython3",
   "version": "3.11.4"
  }
 },
 "nbformat": 4,
 "nbformat_minor": 5
}
