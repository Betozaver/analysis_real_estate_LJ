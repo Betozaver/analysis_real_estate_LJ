{
 "cells": [
  {
   "cell_type": "code",
   "execution_count": 1,
   "id": "8cf8fcf9",
   "metadata": {},
   "outputs": [
    {
     "name": "stdout",
     "output_type": "stream",
     "text": [
      "Requirement already satisfied: pandas in c:\\users\\gaj\\appdata\\local\\programs\\python\\python311\\lib\\site-packages (2.3.0)\n",
      "Note: you may need to restart the kernel to use updated packages.\n"
     ]
    },
    {
     "name": "stderr",
     "output_type": "stream",
     "text": [
      "ERROR: Could not find a version that satisfies the requirement as (from versions: none)\n",
      "ERROR: No matching distribution found for as\n"
     ]
    },
    {
     "name": "stdout",
     "output_type": "stream",
     "text": [
      "Note: you may need to restart the kernel to use updated packages.\n"
     ]
    },
    {
     "name": "stderr",
     "output_type": "stream",
     "text": [
      "ERROR: unknown command \"instal\" - maybe you meant \"install\"\n",
      "\n"
     ]
    }
   ],
   "source": [
    "%pip install pandas as pd\n",
    "%pip instal numpy as npl matplotlib.pyplot as plt\n"
   ]
  },
  {
   "cell_type": "code",
   "execution_count": 2,
   "id": "a6e7d8be",
   "metadata": {},
   "outputs": [],
   "source": [
    "import pandas as pd\n",
    "import numpy as npl\n",
    "import matplotlib.pyplot as plt\n"
   ]
  },
  {
   "cell_type": "code",
   "execution_count": 3,
   "id": "d56a7808",
   "metadata": {},
   "outputs": [],
   "source": [
    "# make it into a list\n",
    "ljubljana_districts = [\n",
    "\"center\", \"moste\", \"dravlje\", \"zelena jama\", \"nove jarše\", \"prule\", \"ljubljana mesto\", \n",
    "\"štepanja vas\", \"stožice\", \"vižmarje\", \"bežigrad\", \"kašelj\", \"vič\", \"zgornja šiška\", \"ježica\",\n",
    "\"tacen\", \"slape\", \"karlovško predmestje\", \"poljansko predmestje\", \"tabor\", \"šentvid nad ljubljano\",\n",
    "\"gradišče ii\", \"gameljne\", \"glince\", \"trnovsko predmestje\", \"brinje ii\", \"ajdovščina\", \"črnuče\", \"spodnja šiška\",\n",
    "\"šujica\", \"lipoglav\", \"šentpeter\", \"dobrova\", \"dobrunje\", \"rudnik\", \"nadgorica\", \"udmat\", \"brdo\",\n",
    "\"zadobrova\", \"brinje ii\", \"gradišče i\", \"šmartno ob savi\", \"stanežiče\", \"javor\", \"volavlje\", \"bizovik\", \n",
    "\"golovec\", \"šmartno pod šmarno goro\", \"krakovsko predmestje\", \"sostro\", \"podgorica\", \"iška loka\", \"podmolnik\", \n",
    "\"tomišelj\", \"podsmreka\", \"rašica\", \"grič\", \"trebeljevo\"]\n"
   ]
  },
  {
   "cell_type": "code",
   "execution_count": null,
   "id": "05a9b690",
   "metadata": {},
   "outputs": [],
   "source": []
  }
 ],
 "metadata": {
  "kernelspec": {
   "display_name": "Python 3",
   "language": "python",
   "name": "python3"
  },
  "language_info": {
   "codemirror_mode": {
    "name": "ipython",
    "version": 3
   },
   "file_extension": ".py",
   "mimetype": "text/x-python",
   "name": "python",
   "nbconvert_exporter": "python",
   "pygments_lexer": "ipython3",
   "version": "3.11.4"
  }
 },
 "nbformat": 4,
 "nbformat_minor": 5
}
