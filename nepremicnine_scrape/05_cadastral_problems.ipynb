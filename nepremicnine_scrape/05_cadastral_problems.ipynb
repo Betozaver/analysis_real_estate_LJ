{
 "cells": [
  {
   "cell_type": "markdown",
   "id": "f353e0d3",
   "metadata": {},
   "source": [
    "In this file we are sorting a minor problem, which was not.\n"
   ]
  },
  {
   "cell_type": "code",
   "execution_count": 1,
   "id": "5e4eff8b",
   "metadata": {},
   "outputs": [
    {
     "name": "stdout",
     "output_type": "stream",
     "text": [
      "Requirement already satisfied: pandas in c:\\users\\gaj\\appdata\\local\\programs\\python\\python311\\lib\\site-packages (2.3.0)\n",
      "Requirement already satisfied: numpy>=1.23.2 in c:\\users\\gaj\\appdata\\local\\programs\\python\\python311\\lib\\site-packages (from pandas) (2.3.0)\n",
      "Requirement already satisfied: python-dateutil>=2.8.2 in c:\\users\\gaj\\appdata\\roaming\\python\\python311\\site-packages (from pandas) (2.9.0.post0)\n",
      "Requirement already satisfied: pytz>=2020.1 in c:\\users\\gaj\\appdata\\local\\programs\\python\\python311\\lib\\site-packages (from pandas) (2025.2)\n",
      "Requirement already satisfied: tzdata>=2022.7 in c:\\users\\gaj\\appdata\\local\\programs\\python\\python311\\lib\\site-packages (from pandas) (2025.2)\n",
      "Requirement already satisfied: six>=1.5 in c:\\users\\gaj\\appdata\\roaming\\python\\python311\\site-packages (from python-dateutil>=2.8.2->pandas) (1.17.0)\n",
      "Note: you may need to restart the kernel to use updated packages.\n"
     ]
    }
   ],
   "source": [
    "%pip install pandas \n",
    "import pandas as pd"
   ]
  },
  {
   "cell_type": "code",
   "execution_count": 2,
   "id": "7e3bed30",
   "metadata": {},
   "outputs": [],
   "source": [
    "df = pd.read_csv(r\"D:\\projects_Sara\\analysis_real_estate_LJ\\nepremicnine_scrape\\nepremicnine_06082025.csv\", sep=\";\", encoding=\"utf-8\")"
   ]
  },
  {
   "cell_type": "code",
   "execution_count": 6,
   "id": "2decc9e0",
   "metadata": {},
   "outputs": [
    {
     "data": {
      "text/html": [
       "<div>\n",
       "<style scoped>\n",
       "    .dataframe tbody tr th:only-of-type {\n",
       "        vertical-align: middle;\n",
       "    }\n",
       "\n",
       "    .dataframe tbody tr th {\n",
       "        vertical-align: top;\n",
       "    }\n",
       "\n",
       "    .dataframe thead th {\n",
       "        text-align: right;\n",
       "    }\n",
       "</style>\n",
       "<table border=\"1\" class=\"dataframe\">\n",
       "  <thead>\n",
       "    <tr style=\"text-align: right;\">\n",
       "      <th></th>\n",
       "      <th>cena</th>\n",
       "      <th>mestna_cetrt</th>\n",
       "      <th>sobnost_ocenjena</th>\n",
       "      <th>naselje</th>\n",
       "      <th>leto_izgradnje</th>\n",
       "      <th>total_m2</th>\n",
       "      <th>is_apartment</th>\n",
       "      <th>novogradnja_1</th>\n",
       "      <th>leto</th>\n",
       "      <th>price_per_m2</th>\n",
       "    </tr>\n",
       "  </thead>\n",
       "  <tbody>\n",
       "    <tr>\n",
       "      <th>900</th>\n",
       "      <td>2800000,0</td>\n",
       "      <td>BEŽIGRAD</td>\n",
       "      <td>6,0</td>\n",
       "      <td>bežigrad</td>\n",
       "      <td>2007,0</td>\n",
       "      <td>777,5</td>\n",
       "      <td>0</td>\n",
       "      <td>False</td>\n",
       "      <td>2025</td>\n",
       "      <td>3601,29</td>\n",
       "    </tr>\n",
       "    <tr>\n",
       "      <th>58</th>\n",
       "      <td>360000,0</td>\n",
       "      <td>JARŠE</td>\n",
       "      <td>5,0</td>\n",
       "      <td>bs 3</td>\n",
       "      <td>1981,0</td>\n",
       "      <td>81,0</td>\n",
       "      <td>1</td>\n",
       "      <td>False</td>\n",
       "      <td>2025</td>\n",
       "      <td>4444,444444444444</td>\n",
       "    </tr>\n",
       "    <tr>\n",
       "      <th>325</th>\n",
       "      <td>970000,0</td>\n",
       "      <td>CENTER</td>\n",
       "      <td>4,0</td>\n",
       "      <td>center</td>\n",
       "      <td>1886,0</td>\n",
       "      <td>181,2</td>\n",
       "      <td>1</td>\n",
       "      <td>False</td>\n",
       "      <td>2025</td>\n",
       "      <td>5353,200883002208</td>\n",
       "    </tr>\n",
       "    <tr>\n",
       "      <th>866</th>\n",
       "      <td>360000,0</td>\n",
       "      <td>DRAVLJE</td>\n",
       "      <td>6,0</td>\n",
       "      <td>dravlje</td>\n",
       "      <td>1830,0</td>\n",
       "      <td>136,3</td>\n",
       "      <td>0</td>\n",
       "      <td>False</td>\n",
       "      <td>2025</td>\n",
       "      <td>2641,23</td>\n",
       "    </tr>\n",
       "    <tr>\n",
       "      <th>871</th>\n",
       "      <td>225000,0</td>\n",
       "      <td>MOSTE-POLJE</td>\n",
       "      <td>2,0</td>\n",
       "      <td>fužine</td>\n",
       "      <td>1920,0</td>\n",
       "      <td>48,0</td>\n",
       "      <td>0</td>\n",
       "      <td>False</td>\n",
       "      <td>2025</td>\n",
       "      <td>4687,5</td>\n",
       "    </tr>\n",
       "  </tbody>\n",
       "</table>\n",
       "</div>"
      ],
      "text/plain": [
       "          cena mestna_cetrt sobnost_ocenjena   naselje leto_izgradnje  \\\n",
       "900  2800000,0     BEŽIGRAD              6,0  bežigrad         2007,0   \n",
       "58    360000,0        JARŠE              5,0      bs 3         1981,0   \n",
       "325   970000,0       CENTER              4,0    center         1886,0   \n",
       "866   360000,0      DRAVLJE              6,0   dravlje         1830,0   \n",
       "871   225000,0  MOSTE-POLJE              2,0    fužine         1920,0   \n",
       "\n",
       "    total_m2  is_apartment  novogradnja_1  leto       price_per_m2  \n",
       "900    777,5             0          False  2025            3601,29  \n",
       "58      81,0             1          False  2025  4444,444444444444  \n",
       "325    181,2             1          False  2025  5353,200883002208  \n",
       "866    136,3             0          False  2025            2641,23  \n",
       "871     48,0             0          False  2025             4687,5  "
      ]
     },
     "execution_count": 6,
     "metadata": {},
     "output_type": "execute_result"
    }
   ],
   "source": [
    "df.sample(5)"
   ]
  },
  {
   "cell_type": "code",
   "execution_count": 5,
   "id": "73520fe4",
   "metadata": {},
   "outputs": [],
   "source": [
    "df['mestna_cetrt'] = df['mestna_cetrt'].str.upper()"
   ]
  },
  {
   "cell_type": "code",
   "execution_count": 7,
   "id": "7f3ee638",
   "metadata": {},
   "outputs": [
    {
     "data": {
      "text/plain": [
       "array(['BEŽIGRAD', 'ČRNUČE', 'DRAVLJE', 'CENTER', 'MOSTE', 'ŠIŠKA',\n",
       "       'JARŠE', 'ROŽNIK', 'RUDNIK', 'ŠENTVID', 'SOSTRO', 'VIČ', 'POSAVJE',\n",
       "       'TRNOVO', 'POLJE', 'ŠMARNA GORA', 'GOLOVEC', 'MOSTE-POLJE',\n",
       "       'SOSTR'], dtype=object)"
      ]
     },
     "execution_count": 7,
     "metadata": {},
     "output_type": "execute_result"
    }
   ],
   "source": [
    "df['mestna_cetrt'].unique()"
   ]
  },
  {
   "cell_type": "code",
   "execution_count": 8,
   "id": "31e1b605",
   "metadata": {},
   "outputs": [],
   "source": [
    "df['mestna_cetrt'] = df['mestna_cetrt'].replace({\n",
    "    'CENTER': 'LJUBLJANA MESTO',\n",
    "    'JARŠE': 'NOVE JARŠE',\n",
    "    'MOSTE-POLJE': 'SLAPE',\n",
    "    'POSAVJE': 'JEŽICA',\n",
    "    'ROŽNIK': 'DOBROVA',\n",
    "    'SOSTR': 'SOSTRO',\n",
    "    'TRNOVO': 'TRNOVSKO PREDMESTJE',\n",
    "    'ŠENTVID': 'ŠENTVID NAD LJUBLJANO',\n",
    "    'ŠMARNA GORA': 'ŠMARTNO POD ŠMARNO GORO',\n",
    "    'ŠIŠKA': 'SPODNJA ŠIŠKA',\n",
    "})\n"
   ]
  },
  {
   "cell_type": "code",
   "execution_count": 9,
   "id": "0104a6c4",
   "metadata": {},
   "outputs": [
    {
     "data": {
      "text/plain": [
       "array(['BEŽIGRAD', 'ČRNUČE', 'DRAVLJE', 'LJUBLJANA MESTO', 'MOSTE',\n",
       "       'SPODNJA ŠIŠKA', 'NOVE JARŠE', 'DOBROVA', 'RUDNIK',\n",
       "       'ŠENTVID NAD LJUBLJANO', 'SOSTRO', 'VIČ', 'JEŽICA',\n",
       "       'TRNOVSKO PREDMESTJE', 'POLJE', 'ŠMARTNO POD ŠMARNO GORO',\n",
       "       'GOLOVEC', 'SLAPE'], dtype=object)"
      ]
     },
     "execution_count": 9,
     "metadata": {},
     "output_type": "execute_result"
    }
   ],
   "source": [
    "df['mestna_cetrt'].unique()"
   ]
  },
  {
   "cell_type": "code",
   "execution_count": 21,
   "id": "9d846795",
   "metadata": {},
   "outputs": [],
   "source": [
    "df.to_csv(r\"D:\\projects_Sara\\analysis_real_estate_LJ\\nepremicnine_scrape\\nepremicnine_06082025_cleaned.csv\", sep=\";\", encoding=\"utf-8\", index=False)"
   ]
  },
  {
   "cell_type": "code",
   "execution_count": 19,
   "id": "bbdb4dbd",
   "metadata": {},
   "outputs": [
    {
     "data": {
      "text/html": [
       "<div>\n",
       "<style scoped>\n",
       "    .dataframe tbody tr th:only-of-type {\n",
       "        vertical-align: middle;\n",
       "    }\n",
       "\n",
       "    .dataframe tbody tr th {\n",
       "        vertical-align: top;\n",
       "    }\n",
       "\n",
       "    .dataframe thead th {\n",
       "        text-align: right;\n",
       "    }\n",
       "</style>\n",
       "<table border=\"1\" class=\"dataframe\">\n",
       "  <thead>\n",
       "    <tr style=\"text-align: right;\">\n",
       "      <th></th>\n",
       "      <th>cena</th>\n",
       "      <th>mestna_cetrt</th>\n",
       "      <th>sobnost_ocenjena</th>\n",
       "      <th>naselje</th>\n",
       "      <th>leto_izgradnje</th>\n",
       "      <th>total_m2</th>\n",
       "      <th>is_apartment</th>\n",
       "      <th>novogradnja_1</th>\n",
       "      <th>leto</th>\n",
       "      <th>price_per_m2</th>\n",
       "    </tr>\n",
       "  </thead>\n",
       "  <tbody>\n",
       "    <tr>\n",
       "      <th>131</th>\n",
       "      <td>319000,0</td>\n",
       "      <td>ZGORNJA ŠIŠKA</td>\n",
       "      <td>2,0</td>\n",
       "      <td>koseze</td>\n",
       "      <td>1978,0</td>\n",
       "      <td>56,0</td>\n",
       "      <td>1</td>\n",
       "      <td>False</td>\n",
       "      <td>2025</td>\n",
       "      <td>5696,428571428572</td>\n",
       "    </tr>\n",
       "    <tr>\n",
       "      <th>132</th>\n",
       "      <td>299000,0</td>\n",
       "      <td>ZGORNJA ŠIŠKA</td>\n",
       "      <td>3,0</td>\n",
       "      <td>koseze</td>\n",
       "      <td>1968,0</td>\n",
       "      <td>63,8</td>\n",
       "      <td>1</td>\n",
       "      <td>False</td>\n",
       "      <td>2025</td>\n",
       "      <td>4686,520376175549</td>\n",
       "    </tr>\n",
       "    <tr>\n",
       "      <th>134</th>\n",
       "      <td>299000,0</td>\n",
       "      <td>ZGORNJA ŠIŠKA</td>\n",
       "      <td>3,0</td>\n",
       "      <td>koseze</td>\n",
       "      <td>1968,0</td>\n",
       "      <td>63,8</td>\n",
       "      <td>1</td>\n",
       "      <td>False</td>\n",
       "      <td>2025</td>\n",
       "      <td>4686,520376175549</td>\n",
       "    </tr>\n",
       "    <tr>\n",
       "      <th>882</th>\n",
       "      <td>680000,0</td>\n",
       "      <td>ZGORNJA ŠIŠKA</td>\n",
       "      <td>6,0</td>\n",
       "      <td>koseze</td>\n",
       "      <td>1976,0</td>\n",
       "      <td>205,0</td>\n",
       "      <td>0</td>\n",
       "      <td>False</td>\n",
       "      <td>2025</td>\n",
       "      <td>3317,07</td>\n",
       "    </tr>\n",
       "    <tr>\n",
       "      <th>883</th>\n",
       "      <td>490000,0</td>\n",
       "      <td>ZGORNJA ŠIŠKA</td>\n",
       "      <td>5,0</td>\n",
       "      <td>koseze</td>\n",
       "      <td>1925,0</td>\n",
       "      <td>106,2</td>\n",
       "      <td>0</td>\n",
       "      <td>False</td>\n",
       "      <td>2025</td>\n",
       "      <td>4613,94</td>\n",
       "    </tr>\n",
       "    <tr>\n",
       "      <th>884</th>\n",
       "      <td>584000,0</td>\n",
       "      <td>ZGORNJA ŠIŠKA</td>\n",
       "      <td>6,0</td>\n",
       "      <td>koseze</td>\n",
       "      <td>1974,0</td>\n",
       "      <td>220,0</td>\n",
       "      <td>0</td>\n",
       "      <td>False</td>\n",
       "      <td>2025</td>\n",
       "      <td>2654,55</td>\n",
       "    </tr>\n",
       "    <tr>\n",
       "      <th>885</th>\n",
       "      <td>585000,0</td>\n",
       "      <td>ZGORNJA ŠIŠKA</td>\n",
       "      <td>6,0</td>\n",
       "      <td>koseze</td>\n",
       "      <td>1974,0</td>\n",
       "      <td>255,0</td>\n",
       "      <td>0</td>\n",
       "      <td>False</td>\n",
       "      <td>2025</td>\n",
       "      <td>2294,12</td>\n",
       "    </tr>\n",
       "    <tr>\n",
       "      <th>957</th>\n",
       "      <td>490000,0</td>\n",
       "      <td>ZGORNJA ŠIŠKA</td>\n",
       "      <td>5,0</td>\n",
       "      <td>koseze</td>\n",
       "      <td>1925,0</td>\n",
       "      <td>106,9</td>\n",
       "      <td>0</td>\n",
       "      <td>False</td>\n",
       "      <td>2025</td>\n",
       "      <td>4583,72</td>\n",
       "    </tr>\n",
       "  </tbody>\n",
       "</table>\n",
       "</div>"
      ],
      "text/plain": [
       "         cena   mestna_cetrt sobnost_ocenjena naselje leto_izgradnje total_m2  \\\n",
       "131  319000,0  ZGORNJA ŠIŠKA              2,0  koseze         1978,0     56,0   \n",
       "132  299000,0  ZGORNJA ŠIŠKA              3,0  koseze         1968,0     63,8   \n",
       "134  299000,0  ZGORNJA ŠIŠKA              3,0  koseze         1968,0     63,8   \n",
       "882  680000,0  ZGORNJA ŠIŠKA              6,0  koseze         1976,0    205,0   \n",
       "883  490000,0  ZGORNJA ŠIŠKA              5,0  koseze         1925,0    106,2   \n",
       "884  584000,0  ZGORNJA ŠIŠKA              6,0  koseze         1974,0    220,0   \n",
       "885  585000,0  ZGORNJA ŠIŠKA              6,0  koseze         1974,0    255,0   \n",
       "957  490000,0  ZGORNJA ŠIŠKA              5,0  koseze         1925,0    106,9   \n",
       "\n",
       "     is_apartment  novogradnja_1  leto       price_per_m2  \n",
       "131             1          False  2025  5696,428571428572  \n",
       "132             1          False  2025  4686,520376175549  \n",
       "134             1          False  2025  4686,520376175549  \n",
       "882             0          False  2025            3317,07  \n",
       "883             0          False  2025            4613,94  \n",
       "884             0          False  2025            2654,55  \n",
       "885             0          False  2025            2294,12  \n",
       "957             0          False  2025            4583,72  "
      ]
     },
     "execution_count": 19,
     "metadata": {},
     "output_type": "execute_result"
    }
   ],
   "source": [
    "df[df['naselje'] == 'koseze']"
   ]
  },
  {
   "cell_type": "code",
   "execution_count": 18,
   "id": "24ea31b7",
   "metadata": {},
   "outputs": [],
   "source": [
    "# checking all the zero values in the 'naselje' column and replacing them with NaN\n",
    "df.loc[df['naselje'] == 'koseze', 'mestna_cetrt'] = 'ZGORNJA ŠIŠKA'"
   ]
  },
  {
   "cell_type": "code",
   "execution_count": null,
   "id": "f615860a",
   "metadata": {},
   "outputs": [],
   "source": []
  }
 ],
 "metadata": {
  "kernelspec": {
   "display_name": "Python 3",
   "language": "python",
   "name": "python3"
  },
  "language_info": {
   "codemirror_mode": {
    "name": "ipython",
    "version": 3
   },
   "file_extension": ".py",
   "mimetype": "text/x-python",
   "name": "python",
   "nbconvert_exporter": "python",
   "pygments_lexer": "ipython3",
   "version": "3.11.4"
  }
 },
 "nbformat": 4,
 "nbformat_minor": 5
}
