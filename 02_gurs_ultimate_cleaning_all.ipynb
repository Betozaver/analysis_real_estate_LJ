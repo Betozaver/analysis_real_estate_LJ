{
 "cells": [
  {
   "cell_type": "code",
   "execution_count": 3,
   "id": "c56fc9f4",
   "metadata": {},
   "outputs": [
    {
     "name": "stdout",
     "output_type": "stream",
     "text": [
      "Requirement already satisfied: pandas in c:\\users\\gaj\\appdata\\local\\programs\\python\\python311\\lib\\site-packages (2.3.0)\n",
      "Requirement already satisfied: numpy>=1.23.2 in c:\\users\\gaj\\appdata\\local\\programs\\python\\python311\\lib\\site-packages (from pandas) (2.3.0)\n",
      "Requirement already satisfied: python-dateutil>=2.8.2 in c:\\users\\gaj\\appdata\\roaming\\python\\python311\\site-packages (from pandas) (2.9.0.post0)\n",
      "Requirement already satisfied: pytz>=2020.1 in c:\\users\\gaj\\appdata\\local\\programs\\python\\python311\\lib\\site-packages (from pandas) (2025.2)\n",
      "Requirement already satisfied: tzdata>=2022.7 in c:\\users\\gaj\\appdata\\local\\programs\\python\\python311\\lib\\site-packages (from pandas) (2025.2)\n",
      "Requirement already satisfied: six>=1.5 in c:\\users\\gaj\\appdata\\roaming\\python\\python311\\site-packages (from python-dateutil>=2.8.2->pandas) (1.17.0)\n",
      "Note: you may need to restart the kernel to use updated packages.\n",
      "Requirement already satisfied: numpy in c:\\users\\gaj\\appdata\\local\\programs\\python\\python311\\lib\\site-packages (2.3.0)\n",
      "Note: you may need to restart the kernel to use updated packages.\n",
      "Note: you may need to restart the kernel to use updated packages.\n"
     ]
    },
    {
     "name": "stderr",
     "output_type": "stream",
     "text": [
      "ERROR: unknown command \"instal\" - maybe you meant \"install\"\n",
      "\n"
     ]
    }
   ],
   "source": [
    "%pip install pandas \n",
    "%pip install numpy\n",
    "%pip instal matplotlib\n",
    "import pandas as pd\n",
    "import numpy as np\n",
    "import matplotlib.pyplot as plt"
   ]
  },
  {
   "cell_type": "code",
   "execution_count": 4,
   "id": "3e43312b",
   "metadata": {},
   "outputs": [
    {
     "data": {
      "text/html": [
       "<div>\n",
       "<style scoped>\n",
       "    .dataframe tbody tr th:only-of-type {\n",
       "        vertical-align: middle;\n",
       "    }\n",
       "\n",
       "    .dataframe tbody tr th {\n",
       "        vertical-align: top;\n",
       "    }\n",
       "\n",
       "    .dataframe thead th {\n",
       "        text-align: right;\n",
       "    }\n",
       "</style>\n",
       "<table border=\"1\" class=\"dataframe\">\n",
       "  <thead>\n",
       "    <tr style=\"text-align: right;\">\n",
       "      <th></th>\n",
       "      <th>mestna_cetrt</th>\n",
       "      <th>naselje</th>\n",
       "      <th>leto_izgradnje</th>\n",
       "      <th>total_m2</th>\n",
       "      <th>living_space</th>\n",
       "      <th>LETO</th>\n",
       "      <th>cena</th>\n",
       "      <th>novogradnja</th>\n",
       "      <th>house_or_apartment</th>\n",
       "    </tr>\n",
       "  </thead>\n",
       "  <tbody>\n",
       "    <tr>\n",
       "      <th>625</th>\n",
       "      <td>ČRNUČE</td>\n",
       "      <td>LJUBLJANA</td>\n",
       "      <td>2023</td>\n",
       "      <td>62.9</td>\n",
       "      <td>52.1</td>\n",
       "      <td>2024</td>\n",
       "      <td>197395</td>\n",
       "      <td>1.0</td>\n",
       "      <td>2</td>\n",
       "    </tr>\n",
       "    <tr>\n",
       "      <th>1007</th>\n",
       "      <td>ZGORNJA ŠIŠKA</td>\n",
       "      <td>LJUBLJANA</td>\n",
       "      <td>2023</td>\n",
       "      <td>44.9</td>\n",
       "      <td>22.7</td>\n",
       "      <td>2024</td>\n",
       "      <td>156211</td>\n",
       "      <td>1.0</td>\n",
       "      <td>2</td>\n",
       "    </tr>\n",
       "    <tr>\n",
       "      <th>2285</th>\n",
       "      <td>BIZOVIK</td>\n",
       "      <td>NaN</td>\n",
       "      <td>2023</td>\n",
       "      <td>172.0</td>\n",
       "      <td>0.0</td>\n",
       "      <td>2024</td>\n",
       "      <td>395000</td>\n",
       "      <td>1.0</td>\n",
       "      <td>1</td>\n",
       "    </tr>\n",
       "    <tr>\n",
       "      <th>1679</th>\n",
       "      <td>ZGORNJA ŠIŠKA</td>\n",
       "      <td>LJUBLJANA</td>\n",
       "      <td>2023</td>\n",
       "      <td>52.6</td>\n",
       "      <td>42.8</td>\n",
       "      <td>2024</td>\n",
       "      <td>251995</td>\n",
       "      <td>1.0</td>\n",
       "      <td>2</td>\n",
       "    </tr>\n",
       "    <tr>\n",
       "      <th>70</th>\n",
       "      <td>ZGORNJA ŠIŠKA</td>\n",
       "      <td>LJUBLJANA</td>\n",
       "      <td>2023</td>\n",
       "      <td>52.5</td>\n",
       "      <td>42.8</td>\n",
       "      <td>2024</td>\n",
       "      <td>220744</td>\n",
       "      <td>1.0</td>\n",
       "      <td>2</td>\n",
       "    </tr>\n",
       "    <tr>\n",
       "      <th>391</th>\n",
       "      <td>KARLOVŠKO PREDMESTJE</td>\n",
       "      <td>LJUBLJANA</td>\n",
       "      <td>1995</td>\n",
       "      <td>185.0</td>\n",
       "      <td>111.3</td>\n",
       "      <td>2024</td>\n",
       "      <td>475000</td>\n",
       "      <td>NaN</td>\n",
       "      <td>1</td>\n",
       "    </tr>\n",
       "    <tr>\n",
       "      <th>1170</th>\n",
       "      <td>BRINJE I</td>\n",
       "      <td>LJUBLJANA</td>\n",
       "      <td>1960</td>\n",
       "      <td>152.3</td>\n",
       "      <td>112.8</td>\n",
       "      <td>2024</td>\n",
       "      <td>180000</td>\n",
       "      <td>NaN</td>\n",
       "      <td>1</td>\n",
       "    </tr>\n",
       "    <tr>\n",
       "      <th>2361</th>\n",
       "      <td>STOŽICE</td>\n",
       "      <td>LJUBLJANA</td>\n",
       "      <td>1975</td>\n",
       "      <td>52.7</td>\n",
       "      <td>49.6</td>\n",
       "      <td>2024</td>\n",
       "      <td>195000</td>\n",
       "      <td>NaN</td>\n",
       "      <td>2</td>\n",
       "    </tr>\n",
       "    <tr>\n",
       "      <th>1626</th>\n",
       "      <td>MOSTE</td>\n",
       "      <td>LJUBLJANA</td>\n",
       "      <td>1966</td>\n",
       "      <td>26.5</td>\n",
       "      <td>23.0</td>\n",
       "      <td>2024</td>\n",
       "      <td>130000</td>\n",
       "      <td>NaN</td>\n",
       "      <td>2</td>\n",
       "    </tr>\n",
       "    <tr>\n",
       "      <th>1669</th>\n",
       "      <td>MOSTE</td>\n",
       "      <td>LJUBLJANA</td>\n",
       "      <td>1972</td>\n",
       "      <td>53.8</td>\n",
       "      <td>52.0</td>\n",
       "      <td>2024</td>\n",
       "      <td>215000</td>\n",
       "      <td>NaN</td>\n",
       "      <td>2</td>\n",
       "    </tr>\n",
       "  </tbody>\n",
       "</table>\n",
       "</div>"
      ],
      "text/plain": [
       "              mestna_cetrt    naselje  leto_izgradnje  total_m2  living_space  \\\n",
       "625                 ČRNUČE  LJUBLJANA            2023      62.9          52.1   \n",
       "1007         ZGORNJA ŠIŠKA  LJUBLJANA            2023      44.9          22.7   \n",
       "2285               BIZOVIK        NaN            2023     172.0           0.0   \n",
       "1679         ZGORNJA ŠIŠKA  LJUBLJANA            2023      52.6          42.8   \n",
       "70           ZGORNJA ŠIŠKA  LJUBLJANA            2023      52.5          42.8   \n",
       "391   KARLOVŠKO PREDMESTJE  LJUBLJANA            1995     185.0         111.3   \n",
       "1170              BRINJE I  LJUBLJANA            1960     152.3         112.8   \n",
       "2361               STOŽICE  LJUBLJANA            1975      52.7          49.6   \n",
       "1626                 MOSTE  LJUBLJANA            1966      26.5          23.0   \n",
       "1669                 MOSTE  LJUBLJANA            1972      53.8          52.0   \n",
       "\n",
       "      LETO    cena  novogradnja  house_or_apartment  \n",
       "625   2024  197395          1.0                   2  \n",
       "1007  2024  156211          1.0                   2  \n",
       "2285  2024  395000          1.0                   1  \n",
       "1679  2024  251995          1.0                   2  \n",
       "70    2024  220744          1.0                   2  \n",
       "391   2024  475000          NaN                   1  \n",
       "1170  2024  180000          NaN                   1  \n",
       "2361  2024  195000          NaN                   2  \n",
       "1626  2024  130000          NaN                   2  \n",
       "1669  2024  215000          NaN                   2  "
      ]
     },
     "execution_count": 4,
     "metadata": {},
     "output_type": "execute_result"
    }
   ],
   "source": [
    "df = pd.read_csv(r\"clean_GURS\\new_prodaja2024.csv\", sep=',', encoding='utf-8')\n",
    "df.sample(10)"
   ]
  },
  {
   "cell_type": "code",
   "execution_count": 5,
   "id": "07cdd892",
   "metadata": {},
   "outputs": [
    {
     "data": {
      "text/html": [
       "<div>\n",
       "<style scoped>\n",
       "    .dataframe tbody tr th:only-of-type {\n",
       "        vertical-align: middle;\n",
       "    }\n",
       "\n",
       "    .dataframe tbody tr th {\n",
       "        vertical-align: top;\n",
       "    }\n",
       "\n",
       "    .dataframe thead th {\n",
       "        text-align: right;\n",
       "    }\n",
       "</style>\n",
       "<table border=\"1\" class=\"dataframe\">\n",
       "  <thead>\n",
       "    <tr style=\"text-align: right;\">\n",
       "      <th></th>\n",
       "      <th>leto_izgradnje</th>\n",
       "      <th>total_m2</th>\n",
       "      <th>living_space</th>\n",
       "      <th>LETO</th>\n",
       "      <th>cena</th>\n",
       "      <th>novogradnja</th>\n",
       "      <th>house_or_apartment</th>\n",
       "    </tr>\n",
       "  </thead>\n",
       "  <tbody>\n",
       "    <tr>\n",
       "      <th>count</th>\n",
       "      <td>2556.000000</td>\n",
       "      <td>2556.000000</td>\n",
       "      <td>2556.000000</td>\n",
       "      <td>2556.0</td>\n",
       "      <td>2.556000e+03</td>\n",
       "      <td>911.000000</td>\n",
       "      <td>2556.000000</td>\n",
       "    </tr>\n",
       "    <tr>\n",
       "      <th>mean</th>\n",
       "      <td>1985.776213</td>\n",
       "      <td>85.224491</td>\n",
       "      <td>66.668232</td>\n",
       "      <td>2024.0</td>\n",
       "      <td>3.115533e+05</td>\n",
       "      <td>0.998902</td>\n",
       "      <td>1.895931</td>\n",
       "    </tr>\n",
       "    <tr>\n",
       "      <th>std</th>\n",
       "      <td>57.433082</td>\n",
       "      <td>56.111586</td>\n",
       "      <td>36.410405</td>\n",
       "      <td>0.0</td>\n",
       "      <td>4.030228e+05</td>\n",
       "      <td>0.033131</td>\n",
       "      <td>0.305410</td>\n",
       "    </tr>\n",
       "    <tr>\n",
       "      <th>min</th>\n",
       "      <td>23.000000</td>\n",
       "      <td>0.000000</td>\n",
       "      <td>0.000000</td>\n",
       "      <td>2024.0</td>\n",
       "      <td>2.000000e+02</td>\n",
       "      <td>0.000000</td>\n",
       "      <td>1.000000</td>\n",
       "    </tr>\n",
       "    <tr>\n",
       "      <th>25%</th>\n",
       "      <td>1966.000000</td>\n",
       "      <td>51.900000</td>\n",
       "      <td>43.700000</td>\n",
       "      <td>2024.0</td>\n",
       "      <td>1.850000e+05</td>\n",
       "      <td>1.000000</td>\n",
       "      <td>2.000000</td>\n",
       "    </tr>\n",
       "    <tr>\n",
       "      <th>50%</th>\n",
       "      <td>1985.000000</td>\n",
       "      <td>68.600000</td>\n",
       "      <td>60.000000</td>\n",
       "      <td>2024.0</td>\n",
       "      <td>2.500000e+05</td>\n",
       "      <td>1.000000</td>\n",
       "      <td>2.000000</td>\n",
       "    </tr>\n",
       "    <tr>\n",
       "      <th>75%</th>\n",
       "      <td>2023.000000</td>\n",
       "      <td>99.150000</td>\n",
       "      <td>79.625000</td>\n",
       "      <td>2024.0</td>\n",
       "      <td>3.581160e+05</td>\n",
       "      <td>1.000000</td>\n",
       "      <td>2.000000</td>\n",
       "    </tr>\n",
       "    <tr>\n",
       "      <th>max</th>\n",
       "      <td>2032.000000</td>\n",
       "      <td>570.700000</td>\n",
       "      <td>397.700000</td>\n",
       "      <td>2024.0</td>\n",
       "      <td>1.581056e+07</td>\n",
       "      <td>1.000000</td>\n",
       "      <td>2.000000</td>\n",
       "    </tr>\n",
       "  </tbody>\n",
       "</table>\n",
       "</div>"
      ],
      "text/plain": [
       "       leto_izgradnje     total_m2  living_space    LETO          cena  \\\n",
       "count     2556.000000  2556.000000   2556.000000  2556.0  2.556000e+03   \n",
       "mean      1985.776213    85.224491     66.668232  2024.0  3.115533e+05   \n",
       "std         57.433082    56.111586     36.410405     0.0  4.030228e+05   \n",
       "min         23.000000     0.000000      0.000000  2024.0  2.000000e+02   \n",
       "25%       1966.000000    51.900000     43.700000  2024.0  1.850000e+05   \n",
       "50%       1985.000000    68.600000     60.000000  2024.0  2.500000e+05   \n",
       "75%       2023.000000    99.150000     79.625000  2024.0  3.581160e+05   \n",
       "max       2032.000000   570.700000    397.700000  2024.0  1.581056e+07   \n",
       "\n",
       "       novogradnja  house_or_apartment  \n",
       "count   911.000000         2556.000000  \n",
       "mean      0.998902            1.895931  \n",
       "std       0.033131            0.305410  \n",
       "min       0.000000            1.000000  \n",
       "25%       1.000000            2.000000  \n",
       "50%       1.000000            2.000000  \n",
       "75%       1.000000            2.000000  \n",
       "max       1.000000            2.000000  "
      ]
     },
     "execution_count": 5,
     "metadata": {},
     "output_type": "execute_result"
    }
   ],
   "source": [
    "df.describe()"
   ]
  },
  {
   "cell_type": "code",
   "execution_count": 6,
   "id": "f7e6d250",
   "metadata": {},
   "outputs": [],
   "source": [
    "#preparing the year column for Power BI\n",
    "# prepareing area columns and price column for Power BI\n",
    "df['DATUM'] = pd.to_datetime(\"2024-01-01\")\n",
    "\n",
    "\n"
   ]
  },
  {
   "cell_type": "code",
   "execution_count": 7,
   "id": "6a6e90ab",
   "metadata": {},
   "outputs": [],
   "source": [
    "# 1) Uniform column names\n",
    "df.columns = df.columns.str.lower()\n",
    "\n",
    "# 2) Identify all object-dtype columns\n",
    "str_cols = df.select_dtypes(include=\"object\").columns\n",
    "\n",
    "# 3) Lowercase every value in those columns\n",
    "df[str_cols] = df[str_cols].apply(lambda col: col.str.lower())\n"
   ]
  },
  {
   "cell_type": "code",
   "execution_count": 8,
   "id": "682ad1f9",
   "metadata": {},
   "outputs": [
    {
     "data": {
      "text/html": [
       "<div>\n",
       "<style scoped>\n",
       "    .dataframe tbody tr th:only-of-type {\n",
       "        vertical-align: middle;\n",
       "    }\n",
       "\n",
       "    .dataframe tbody tr th {\n",
       "        vertical-align: top;\n",
       "    }\n",
       "\n",
       "    .dataframe thead th {\n",
       "        text-align: right;\n",
       "    }\n",
       "</style>\n",
       "<table border=\"1\" class=\"dataframe\">\n",
       "  <thead>\n",
       "    <tr style=\"text-align: right;\">\n",
       "      <th></th>\n",
       "      <th>novogradnja</th>\n",
       "      <th>novogradnja_1</th>\n",
       "    </tr>\n",
       "  </thead>\n",
       "  <tbody>\n",
       "    <tr>\n",
       "      <th>1741</th>\n",
       "      <td>1.0</td>\n",
       "      <td>True</td>\n",
       "    </tr>\n",
       "    <tr>\n",
       "      <th>1963</th>\n",
       "      <td>NaN</td>\n",
       "      <td>False</td>\n",
       "    </tr>\n",
       "    <tr>\n",
       "      <th>576</th>\n",
       "      <td>NaN</td>\n",
       "      <td>False</td>\n",
       "    </tr>\n",
       "    <tr>\n",
       "      <th>1841</th>\n",
       "      <td>1.0</td>\n",
       "      <td>True</td>\n",
       "    </tr>\n",
       "    <tr>\n",
       "      <th>310</th>\n",
       "      <td>NaN</td>\n",
       "      <td>False</td>\n",
       "    </tr>\n",
       "    <tr>\n",
       "      <th>2511</th>\n",
       "      <td>NaN</td>\n",
       "      <td>False</td>\n",
       "    </tr>\n",
       "    <tr>\n",
       "      <th>942</th>\n",
       "      <td>NaN</td>\n",
       "      <td>False</td>\n",
       "    </tr>\n",
       "    <tr>\n",
       "      <th>1027</th>\n",
       "      <td>NaN</td>\n",
       "      <td>False</td>\n",
       "    </tr>\n",
       "    <tr>\n",
       "      <th>1346</th>\n",
       "      <td>1.0</td>\n",
       "      <td>True</td>\n",
       "    </tr>\n",
       "    <tr>\n",
       "      <th>1166</th>\n",
       "      <td>NaN</td>\n",
       "      <td>False</td>\n",
       "    </tr>\n",
       "  </tbody>\n",
       "</table>\n",
       "</div>"
      ],
      "text/plain": [
       "      novogradnja  novogradnja_1\n",
       "1741          1.0           True\n",
       "1963          NaN          False\n",
       "576           NaN          False\n",
       "1841          1.0           True\n",
       "310           NaN          False\n",
       "2511          NaN          False\n",
       "942           NaN          False\n",
       "1027          NaN          False\n",
       "1346          1.0           True\n",
       "1166          NaN          False"
      ]
     },
     "execution_count": 8,
     "metadata": {},
     "output_type": "execute_result"
    }
   ],
   "source": [
    "\n",
    "# creating a boolean column 'NOVOGRADNJA_1' based on 'NOVOGRADNJA'\n",
    "df['novogradnja_1'] = df['novogradnja'] == 1\n",
    "\n",
    "# Preview the new column\n",
    "df[['novogradnja', 'novogradnja_1']].sample(10)\n"
   ]
  },
  {
   "cell_type": "code",
   "execution_count": 9,
   "id": "9a9d95e2",
   "metadata": {},
   "outputs": [],
   "source": [
    "# Droping the original 'NOVOGRADNJA' column, as we now have 'NOVOGRADNJA_1' which has the same information in a boolean format.\n",
    "df.drop(columns=['novogradnja'], inplace=True)"
   ]
  },
  {
   "cell_type": "code",
   "execution_count": 10,
   "id": "c931aef3",
   "metadata": {},
   "outputs": [],
   "source": [
    "# Create a column 'is_house': 1 if house_or_apartment is 'house', else 0\n",
    "df['is_apartment'] = (df['house_or_apartment'] == 2).astype(int)"
   ]
  },
  {
   "cell_type": "code",
   "execution_count": 11,
   "id": "d36b07ce",
   "metadata": {},
   "outputs": [
    {
     "data": {
      "text/html": [
       "<div>\n",
       "<style scoped>\n",
       "    .dataframe tbody tr th:only-of-type {\n",
       "        vertical-align: middle;\n",
       "    }\n",
       "\n",
       "    .dataframe tbody tr th {\n",
       "        vertical-align: top;\n",
       "    }\n",
       "\n",
       "    .dataframe thead th {\n",
       "        text-align: right;\n",
       "    }\n",
       "</style>\n",
       "<table border=\"1\" class=\"dataframe\">\n",
       "  <thead>\n",
       "    <tr style=\"text-align: right;\">\n",
       "      <th></th>\n",
       "      <th>house_or_apartment</th>\n",
       "      <th>is_apartment</th>\n",
       "    </tr>\n",
       "  </thead>\n",
       "  <tbody>\n",
       "    <tr>\n",
       "      <th>1267</th>\n",
       "      <td>2</td>\n",
       "      <td>1</td>\n",
       "    </tr>\n",
       "    <tr>\n",
       "      <th>1374</th>\n",
       "      <td>2</td>\n",
       "      <td>1</td>\n",
       "    </tr>\n",
       "    <tr>\n",
       "      <th>2028</th>\n",
       "      <td>2</td>\n",
       "      <td>1</td>\n",
       "    </tr>\n",
       "    <tr>\n",
       "      <th>252</th>\n",
       "      <td>2</td>\n",
       "      <td>1</td>\n",
       "    </tr>\n",
       "    <tr>\n",
       "      <th>1972</th>\n",
       "      <td>2</td>\n",
       "      <td>1</td>\n",
       "    </tr>\n",
       "    <tr>\n",
       "      <th>72</th>\n",
       "      <td>2</td>\n",
       "      <td>1</td>\n",
       "    </tr>\n",
       "    <tr>\n",
       "      <th>1868</th>\n",
       "      <td>2</td>\n",
       "      <td>1</td>\n",
       "    </tr>\n",
       "    <tr>\n",
       "      <th>1940</th>\n",
       "      <td>2</td>\n",
       "      <td>1</td>\n",
       "    </tr>\n",
       "    <tr>\n",
       "      <th>503</th>\n",
       "      <td>2</td>\n",
       "      <td>1</td>\n",
       "    </tr>\n",
       "    <tr>\n",
       "      <th>1296</th>\n",
       "      <td>2</td>\n",
       "      <td>1</td>\n",
       "    </tr>\n",
       "  </tbody>\n",
       "</table>\n",
       "</div>"
      ],
      "text/plain": [
       "      house_or_apartment  is_apartment\n",
       "1267                   2             1\n",
       "1374                   2             1\n",
       "2028                   2             1\n",
       "252                    2             1\n",
       "1972                   2             1\n",
       "72                     2             1\n",
       "1868                   2             1\n",
       "1940                   2             1\n",
       "503                    2             1\n",
       "1296                   2             1"
      ]
     },
     "execution_count": 11,
     "metadata": {},
     "output_type": "execute_result"
    }
   ],
   "source": [
    "# view the new column 'is house'\n",
    "df[['house_or_apartment', 'is_apartment']].sample(10)\n"
   ]
  },
  {
   "cell_type": "code",
   "execution_count": 12,
   "id": "840f676b",
   "metadata": {},
   "outputs": [
    {
     "name": "stdout",
     "output_type": "stream",
     "text": [
      "float64\n",
      "float64\n"
     ]
    }
   ],
   "source": [
    "print(df['total_m2'].dtype)\n",
    "print(df['living_space'].dtype)"
   ]
  },
  {
   "cell_type": "code",
   "execution_count": 13,
   "id": "32b36863",
   "metadata": {},
   "outputs": [
    {
     "data": {
      "text/html": [
       "<div>\n",
       "<style scoped>\n",
       "    .dataframe tbody tr th:only-of-type {\n",
       "        vertical-align: middle;\n",
       "    }\n",
       "\n",
       "    .dataframe tbody tr th {\n",
       "        vertical-align: top;\n",
       "    }\n",
       "\n",
       "    .dataframe thead th {\n",
       "        text-align: right;\n",
       "    }\n",
       "</style>\n",
       "<table border=\"1\" class=\"dataframe\">\n",
       "  <thead>\n",
       "    <tr style=\"text-align: right;\">\n",
       "      <th></th>\n",
       "      <th>mestna_cetrt</th>\n",
       "      <th>naselje</th>\n",
       "      <th>leto_izgradnje</th>\n",
       "      <th>total_m2</th>\n",
       "      <th>living_space</th>\n",
       "      <th>leto</th>\n",
       "      <th>cena</th>\n",
       "      <th>house_or_apartment</th>\n",
       "      <th>datum</th>\n",
       "      <th>novogradnja_1</th>\n",
       "      <th>is_apartment</th>\n",
       "    </tr>\n",
       "  </thead>\n",
       "  <tbody>\n",
       "  </tbody>\n",
       "</table>\n",
       "</div>"
      ],
      "text/plain": [
       "Empty DataFrame\n",
       "Columns: [mestna_cetrt, naselje, leto_izgradnje, total_m2, living_space, leto, cena, house_or_apartment, datum, novogradnja_1, is_apartment]\n",
       "Index: []"
      ]
     },
     "execution_count": 13,
     "metadata": {},
     "output_type": "execute_result"
    }
   ],
   "source": [
    "#Printing the number of rows with missing values in 'm2_bruto' column\n",
    "df[df['total_m2'].isna()]"
   ]
  },
  {
   "cell_type": "code",
   "execution_count": 14,
   "id": "140a3815",
   "metadata": {},
   "outputs": [
    {
     "data": {
      "text/html": [
       "<div>\n",
       "<style scoped>\n",
       "    .dataframe tbody tr th:only-of-type {\n",
       "        vertical-align: middle;\n",
       "    }\n",
       "\n",
       "    .dataframe tbody tr th {\n",
       "        vertical-align: top;\n",
       "    }\n",
       "\n",
       "    .dataframe thead th {\n",
       "        text-align: right;\n",
       "    }\n",
       "</style>\n",
       "<table border=\"1\" class=\"dataframe\">\n",
       "  <thead>\n",
       "    <tr style=\"text-align: right;\">\n",
       "      <th></th>\n",
       "      <th>mestna_cetrt</th>\n",
       "      <th>naselje</th>\n",
       "      <th>leto_izgradnje</th>\n",
       "      <th>total_m2</th>\n",
       "      <th>living_space</th>\n",
       "      <th>leto</th>\n",
       "      <th>cena</th>\n",
       "      <th>house_or_apartment</th>\n",
       "      <th>datum</th>\n",
       "      <th>novogradnja_1</th>\n",
       "      <th>is_apartment</th>\n",
       "    </tr>\n",
       "  </thead>\n",
       "  <tbody>\n",
       "    <tr>\n",
       "      <th>1834</th>\n",
       "      <td>volavlje</td>\n",
       "      <td>zgornja besnica</td>\n",
       "      <td>1989</td>\n",
       "      <td>0.0</td>\n",
       "      <td>0.0</td>\n",
       "      <td>2024</td>\n",
       "      <td>33000</td>\n",
       "      <td>1</td>\n",
       "      <td>2024-01-01</td>\n",
       "      <td>False</td>\n",
       "      <td>0</td>\n",
       "    </tr>\n",
       "  </tbody>\n",
       "</table>\n",
       "</div>"
      ],
      "text/plain": [
       "     mestna_cetrt          naselje  leto_izgradnje  total_m2  living_space  \\\n",
       "1834     volavlje  zgornja besnica            1989       0.0           0.0   \n",
       "\n",
       "      leto   cena  house_or_apartment      datum  novogradnja_1  is_apartment  \n",
       "1834  2024  33000                   1 2024-01-01          False             0  "
      ]
     },
     "execution_count": 14,
     "metadata": {},
     "output_type": "execute_result"
    }
   ],
   "source": [
    "#Printing the number of rows with missing values in 'm2_bruto' column\n",
    "df[df['total_m2']== 0]"
   ]
  },
  {
   "cell_type": "code",
   "execution_count": 15,
   "id": "f87d4fb5",
   "metadata": {},
   "outputs": [],
   "source": [
    "#deleting the rows with missing values in 'm2_bruto' column\n",
    "#df.drop(index=1834, inplace=True)"
   ]
  },
  {
   "cell_type": "code",
   "execution_count": 16,
   "id": "e581f707",
   "metadata": {},
   "outputs": [
    {
     "data": {
      "text/plain": [
       "mestna_cetrt          10\n",
       "naselje                6\n",
       "leto_izgradnje        10\n",
       "total_m2              10\n",
       "living_space          10\n",
       "leto                  10\n",
       "cena                  10\n",
       "house_or_apartment    10\n",
       "datum                 10\n",
       "novogradnja_1         10\n",
       "is_apartment          10\n",
       "dtype: int64"
      ]
     },
     "execution_count": 16,
     "metadata": {},
     "output_type": "execute_result"
    }
   ],
   "source": [
    "#Printing the number of rows with 0 m2 in 'm2_neto' column\n",
    "df[df['living_space'] == 0].count()"
   ]
  },
  {
   "cell_type": "code",
   "execution_count": 17,
   "id": "e89d61d2",
   "metadata": {},
   "outputs": [
    {
     "data": {
      "text/plain": [
       "mestna_cetrt          0\n",
       "naselje               0\n",
       "leto_izgradnje        0\n",
       "total_m2              0\n",
       "living_space          0\n",
       "leto                  0\n",
       "cena                  0\n",
       "house_or_apartment    0\n",
       "datum                 0\n",
       "novogradnja_1         0\n",
       "is_apartment          0\n",
       "dtype: int64"
      ]
     },
     "execution_count": 17,
     "metadata": {},
     "output_type": "execute_result"
    }
   ],
   "source": [
    "#Printing the number of rows with missing values in 'm2_neto' column\n",
    "df[df['living_space'].isna()].count()"
   ]
  },
  {
   "cell_type": "code",
   "execution_count": 18,
   "id": "dc34078a",
   "metadata": {},
   "outputs": [],
   "source": [
    "\n",
    "# 1) Replace zeros in living_space with NaN\n",
    "df['living_space'] = df['living_space'].replace(0, np.nan)\n"
   ]
  },
  {
   "cell_type": "code",
   "execution_count": 19,
   "id": "1e832493",
   "metadata": {},
   "outputs": [
    {
     "data": {
      "text/plain": [
       "mestna_cetrt          10\n",
       "naselje                6\n",
       "leto_izgradnje        10\n",
       "total_m2              10\n",
       "living_space           0\n",
       "leto                  10\n",
       "cena                  10\n",
       "house_or_apartment    10\n",
       "datum                 10\n",
       "novogradnja_1         10\n",
       "is_apartment          10\n",
       "dtype: int64"
      ]
     },
     "execution_count": 19,
     "metadata": {},
     "output_type": "execute_result"
    }
   ],
   "source": [
    "#checking\n",
    "df[df['living_space'].isna()].count()"
   ]
  },
  {
   "cell_type": "code",
   "execution_count": 20,
   "id": "40d4f676",
   "metadata": {},
   "outputs": [],
   "source": [
    "# filling missing values in 'm2_neto' using DataFrame syntax\n",
    "df.fillna({'living_space': df['total_m2']}, inplace=True)"
   ]
  },
  {
   "cell_type": "code",
   "execution_count": 21,
   "id": "fe4609f7",
   "metadata": {},
   "outputs": [],
   "source": [
    "# trying to unify sizes of apartments and houses based on total area bought\n",
    "def oceni_sobnost(m2):\n",
    "    if pd.isna(m2):\n",
    "        return None\n",
    "    if m2 < 35:\n",
    "        return 1\n",
    "    elif m2 < 50:\n",
    "        return 2\n",
    "    elif m2 < 70:\n",
    "        return 3\n",
    "    elif m2 < 90:\n",
    "        return 4\n",
    "    elif m2 < 110:\n",
    "        return 5\n",
    "    else:\n",
    "        return 6"
   ]
  },
  {
   "cell_type": "code",
   "execution_count": 22,
   "id": "c37aa4fd",
   "metadata": {},
   "outputs": [],
   "source": [
    "df['sobnost_ocenjena'] = df['total_m2'].apply(oceni_sobnost)"
   ]
  },
  {
   "cell_type": "code",
   "execution_count": 23,
   "id": "46a4283d",
   "metadata": {},
   "outputs": [
    {
     "name": "stdout",
     "output_type": "stream",
     "text": [
      "<class 'pandas.core.frame.DataFrame'>\n",
      "RangeIndex: 2556 entries, 0 to 2555\n",
      "Data columns (total 12 columns):\n",
      " #   Column              Non-Null Count  Dtype         \n",
      "---  ------              --------------  -----         \n",
      " 0   mestna_cetrt        2556 non-null   object        \n",
      " 1   naselje             2546 non-null   object        \n",
      " 2   leto_izgradnje      2556 non-null   int64         \n",
      " 3   total_m2            2556 non-null   float64       \n",
      " 4   living_space        2556 non-null   float64       \n",
      " 5   leto                2556 non-null   int64         \n",
      " 6   cena                2556 non-null   int64         \n",
      " 7   house_or_apartment  2556 non-null   int64         \n",
      " 8   datum               2556 non-null   datetime64[ns]\n",
      " 9   novogradnja_1       2556 non-null   bool          \n",
      " 10  is_apartment        2556 non-null   int64         \n",
      " 11  sobnost_ocenjena    2556 non-null   int64         \n",
      "dtypes: bool(1), datetime64[ns](1), float64(2), int64(6), object(2)\n",
      "memory usage: 222.3+ KB\n"
     ]
    }
   ],
   "source": [
    "df.info()"
   ]
  },
  {
   "cell_type": "code",
   "execution_count": 24,
   "id": "e283e1f7",
   "metadata": {},
   "outputs": [],
   "source": [
    "# checking all the zero values in the 'naselje' column and replacing them with NaN\n",
    "df.loc[df['naselje'] == 0, 'naselje'] = np.nan"
   ]
  },
  {
   "cell_type": "code",
   "execution_count": 25,
   "id": "7a778bad",
   "metadata": {},
   "outputs": [
    {
     "data": {
      "text/plain": [
       "mestna_cetrt          10\n",
       "naselje                0\n",
       "leto_izgradnje        10\n",
       "total_m2              10\n",
       "living_space          10\n",
       "leto                  10\n",
       "cena                  10\n",
       "house_or_apartment    10\n",
       "datum                 10\n",
       "novogradnja_1         10\n",
       "is_apartment          10\n",
       "sobnost_ocenjena      10\n",
       "dtype: int64"
      ]
     },
     "execution_count": 25,
     "metadata": {},
     "output_type": "execute_result"
    }
   ],
   "source": [
    "# checking all the empty values in the 'naselje' column\n",
    "df[df['naselje'].isna()].count()"
   ]
  },
  {
   "cell_type": "code",
   "execution_count": 26,
   "id": "fa0cf8dc",
   "metadata": {},
   "outputs": [],
   "source": [
    "# changing all the empty values in the 'naselje' column to 'ljubljana'\n",
    "df.fillna({'naselje': 'ljubljana'}, inplace=True)"
   ]
  },
  {
   "cell_type": "code",
   "execution_count": 27,
   "id": "d07d11ea",
   "metadata": {},
   "outputs": [],
   "source": [
    "df['price_per_m2'] = df['cena'] / df['total_m2']\n"
   ]
  },
  {
   "cell_type": "code",
   "execution_count": 28,
   "id": "a7ac5236",
   "metadata": {},
   "outputs": [
    {
     "name": "stdout",
     "output_type": "stream",
     "text": [
      "<class 'pandas.core.frame.DataFrame'>\n",
      "RangeIndex: 2556 entries, 0 to 2555\n",
      "Data columns (total 13 columns):\n",
      " #   Column              Non-Null Count  Dtype         \n",
      "---  ------              --------------  -----         \n",
      " 0   mestna_cetrt        2556 non-null   object        \n",
      " 1   naselje             2556 non-null   object        \n",
      " 2   leto_izgradnje      2556 non-null   int64         \n",
      " 3   total_m2            2556 non-null   float64       \n",
      " 4   living_space        2556 non-null   float64       \n",
      " 5   leto                2556 non-null   int64         \n",
      " 6   cena                2556 non-null   int64         \n",
      " 7   house_or_apartment  2556 non-null   int64         \n",
      " 8   datum               2556 non-null   datetime64[ns]\n",
      " 9   novogradnja_1       2556 non-null   bool          \n",
      " 10  is_apartment        2556 non-null   int64         \n",
      " 11  sobnost_ocenjena    2556 non-null   int64         \n",
      " 12  price_per_m2        2556 non-null   float64       \n",
      "dtypes: bool(1), datetime64[ns](1), float64(3), int64(6), object(2)\n",
      "memory usage: 242.2+ KB\n"
     ]
    }
   ],
   "source": [
    "df.info()"
   ]
  },
  {
   "cell_type": "code",
   "execution_count": 29,
   "id": "000c8faa",
   "metadata": {},
   "outputs": [
    {
     "name": "stderr",
     "output_type": "stream",
     "text": [
      "c:\\Users\\gaj\\AppData\\Local\\Programs\\Python\\Python311\\Lib\\site-packages\\pandas\\core\\nanops.py:1016: RuntimeWarning: invalid value encountered in subtract\n",
      "  sqr = _ensure_numeric((avg - values) ** 2)\n"
     ]
    },
    {
     "data": {
      "text/html": [
       "<div>\n",
       "<style scoped>\n",
       "    .dataframe tbody tr th:only-of-type {\n",
       "        vertical-align: middle;\n",
       "    }\n",
       "\n",
       "    .dataframe tbody tr th {\n",
       "        vertical-align: top;\n",
       "    }\n",
       "\n",
       "    .dataframe thead th {\n",
       "        text-align: right;\n",
       "    }\n",
       "</style>\n",
       "<table border=\"1\" class=\"dataframe\">\n",
       "  <thead>\n",
       "    <tr style=\"text-align: right;\">\n",
       "      <th></th>\n",
       "      <th>leto_izgradnje</th>\n",
       "      <th>total_m2</th>\n",
       "      <th>living_space</th>\n",
       "      <th>leto</th>\n",
       "      <th>cena</th>\n",
       "      <th>house_or_apartment</th>\n",
       "      <th>datum</th>\n",
       "      <th>is_apartment</th>\n",
       "      <th>sobnost_ocenjena</th>\n",
       "      <th>price_per_m2</th>\n",
       "    </tr>\n",
       "  </thead>\n",
       "  <tbody>\n",
       "    <tr>\n",
       "      <th>count</th>\n",
       "      <td>2556.000000</td>\n",
       "      <td>2556.000000</td>\n",
       "      <td>2556.000000</td>\n",
       "      <td>2556.0</td>\n",
       "      <td>2.556000e+03</td>\n",
       "      <td>2556.000000</td>\n",
       "      <td>2556</td>\n",
       "      <td>2556.000000</td>\n",
       "      <td>2556.000000</td>\n",
       "      <td>2556.000000</td>\n",
       "    </tr>\n",
       "    <tr>\n",
       "      <th>mean</th>\n",
       "      <td>1985.776213</td>\n",
       "      <td>85.224491</td>\n",
       "      <td>67.139045</td>\n",
       "      <td>2024.0</td>\n",
       "      <td>3.115533e+05</td>\n",
       "      <td>1.895931</td>\n",
       "      <td>2024-01-01 00:00:00</td>\n",
       "      <td>0.895931</td>\n",
       "      <td>3.673318</td>\n",
       "      <td>inf</td>\n",
       "    </tr>\n",
       "    <tr>\n",
       "      <th>min</th>\n",
       "      <td>23.000000</td>\n",
       "      <td>0.000000</td>\n",
       "      <td>0.000000</td>\n",
       "      <td>2024.0</td>\n",
       "      <td>2.000000e+02</td>\n",
       "      <td>1.000000</td>\n",
       "      <td>2024-01-01 00:00:00</td>\n",
       "      <td>0.000000</td>\n",
       "      <td>1.000000</td>\n",
       "      <td>2.941176</td>\n",
       "    </tr>\n",
       "    <tr>\n",
       "      <th>25%</th>\n",
       "      <td>1966.000000</td>\n",
       "      <td>51.900000</td>\n",
       "      <td>43.975000</td>\n",
       "      <td>2024.0</td>\n",
       "      <td>1.850000e+05</td>\n",
       "      <td>2.000000</td>\n",
       "      <td>2024-01-01 00:00:00</td>\n",
       "      <td>1.000000</td>\n",
       "      <td>3.000000</td>\n",
       "      <td>3008.700795</td>\n",
       "    </tr>\n",
       "    <tr>\n",
       "      <th>50%</th>\n",
       "      <td>1985.000000</td>\n",
       "      <td>68.600000</td>\n",
       "      <td>60.100000</td>\n",
       "      <td>2024.0</td>\n",
       "      <td>2.500000e+05</td>\n",
       "      <td>2.000000</td>\n",
       "      <td>2024-01-01 00:00:00</td>\n",
       "      <td>1.000000</td>\n",
       "      <td>3.000000</td>\n",
       "      <td>3732.280652</td>\n",
       "    </tr>\n",
       "    <tr>\n",
       "      <th>75%</th>\n",
       "      <td>2023.000000</td>\n",
       "      <td>99.150000</td>\n",
       "      <td>80.025000</td>\n",
       "      <td>2024.0</td>\n",
       "      <td>3.581160e+05</td>\n",
       "      <td>2.000000</td>\n",
       "      <td>2024-01-01 00:00:00</td>\n",
       "      <td>1.000000</td>\n",
       "      <td>5.000000</td>\n",
       "      <td>4545.454545</td>\n",
       "    </tr>\n",
       "    <tr>\n",
       "      <th>max</th>\n",
       "      <td>2032.000000</td>\n",
       "      <td>570.700000</td>\n",
       "      <td>397.700000</td>\n",
       "      <td>2024.0</td>\n",
       "      <td>1.581056e+07</td>\n",
       "      <td>2.000000</td>\n",
       "      <td>2024-01-01 00:00:00</td>\n",
       "      <td>1.000000</td>\n",
       "      <td>6.000000</td>\n",
       "      <td>inf</td>\n",
       "    </tr>\n",
       "    <tr>\n",
       "      <th>std</th>\n",
       "      <td>57.433082</td>\n",
       "      <td>56.111586</td>\n",
       "      <td>36.572676</td>\n",
       "      <td>0.0</td>\n",
       "      <td>4.030228e+05</td>\n",
       "      <td>0.305410</td>\n",
       "      <td>NaN</td>\n",
       "      <td>0.305410</td>\n",
       "      <td>1.570050</td>\n",
       "      <td>NaN</td>\n",
       "    </tr>\n",
       "  </tbody>\n",
       "</table>\n",
       "</div>"
      ],
      "text/plain": [
       "       leto_izgradnje     total_m2  living_space    leto          cena  \\\n",
       "count     2556.000000  2556.000000   2556.000000  2556.0  2.556000e+03   \n",
       "mean      1985.776213    85.224491     67.139045  2024.0  3.115533e+05   \n",
       "min         23.000000     0.000000      0.000000  2024.0  2.000000e+02   \n",
       "25%       1966.000000    51.900000     43.975000  2024.0  1.850000e+05   \n",
       "50%       1985.000000    68.600000     60.100000  2024.0  2.500000e+05   \n",
       "75%       2023.000000    99.150000     80.025000  2024.0  3.581160e+05   \n",
       "max       2032.000000   570.700000    397.700000  2024.0  1.581056e+07   \n",
       "std         57.433082    56.111586     36.572676     0.0  4.030228e+05   \n",
       "\n",
       "       house_or_apartment                datum  is_apartment  \\\n",
       "count         2556.000000                 2556   2556.000000   \n",
       "mean             1.895931  2024-01-01 00:00:00      0.895931   \n",
       "min              1.000000  2024-01-01 00:00:00      0.000000   \n",
       "25%              2.000000  2024-01-01 00:00:00      1.000000   \n",
       "50%              2.000000  2024-01-01 00:00:00      1.000000   \n",
       "75%              2.000000  2024-01-01 00:00:00      1.000000   \n",
       "max              2.000000  2024-01-01 00:00:00      1.000000   \n",
       "std              0.305410                  NaN      0.305410   \n",
       "\n",
       "       sobnost_ocenjena  price_per_m2  \n",
       "count       2556.000000   2556.000000  \n",
       "mean           3.673318           inf  \n",
       "min            1.000000      2.941176  \n",
       "25%            3.000000   3008.700795  \n",
       "50%            3.000000   3732.280652  \n",
       "75%            5.000000   4545.454545  \n",
       "max            6.000000           inf  \n",
       "std            1.570050           NaN  "
      ]
     },
     "execution_count": 29,
     "metadata": {},
     "output_type": "execute_result"
    }
   ],
   "source": [
    "df.describe()"
   ]
  },
  {
   "cell_type": "code",
   "execution_count": 30,
   "id": "9b6be711",
   "metadata": {},
   "outputs": [
    {
     "data": {
      "image/png": "[encoded data removed]",
      "text/plain": [
       "<Figure size 640x480 with 1 Axes>"
      ]
     },
     "metadata": {},
     "output_type": "display_data"
    }
   ],
   "source": [
    "# looking at graphs\n",
    "plt.scatter(data=df, x='total_m2', y='sobnost_ocenjena', s=100, alpha=0.5, edgecolors='blue' )\n",
    "plt.title('Square meters to amount of rooms')\n",
    "plt.xlabel(\"m2\")\n",
    "plt.ylabel(\"rooms\")\n",
    "plt.grid( axis= 'x')\n",
    "plt.show()\n"
   ]
  },
  {
   "cell_type": "code",
   "execution_count": 31,
   "id": "a49b24bf",
   "metadata": {},
   "outputs": [
    {
     "name": "stderr",
     "output_type": "stream",
     "text": [
      "c:\\Users\\gaj\\AppData\\Local\\Programs\\Python\\Python311\\Lib\\site-packages\\pandas\\core\\nanops.py:1016: RuntimeWarning: invalid value encountered in subtract\n",
      "  sqr = _ensure_numeric((avg - values) ** 2)\n"
     ]
    },
    {
     "data": {
      "text/plain": [
       "count    2556.000000\n",
       "mean             inf\n",
       "std              NaN\n",
       "min         2.941176\n",
       "25%      3008.700795\n",
       "50%      3732.280652\n",
       "75%      4545.454545\n",
       "max              inf\n",
       "Name: price_per_m2, dtype: float64"
      ]
     },
     "execution_count": 31,
     "metadata": {},
     "output_type": "execute_result"
    }
   ],
   "source": [
    "df['price_per_m2'].describe()"
   ]
  },
  {
   "cell_type": "code",
   "execution_count": 40,
   "id": "81909927",
   "metadata": {},
   "outputs": [],
   "source": [
    "# drop infinite and NaN\n",
    "clean = df[~df['price_per_m2'].isin([np.inf, -np.inf])].dropna(subset=['price_per_m2'])\n",
    "\n",
    "# (optionally) drop values that are clearly data‐entry errors\n",
    "clean = clean[(clean['price_per_m2'] > 200) & (clean['price_per_m2'] < 10000)]\n"
   ]
  },
  {
   "cell_type": "code",
   "execution_count": 41,
   "id": "24b1a988",
   "metadata": {},
   "outputs": [
    {
     "name": "stdout",
     "output_type": "stream",
     "text": [
      "0.05    1497.821601\n",
      "0.25    3025.477707\n",
      "0.50    3732.638889\n",
      "0.75    4545.454545\n",
      "0.95    6280.198347\n",
      "Name: price_per_m2, dtype: float64\n"
     ]
    }
   ],
   "source": [
    "q = clean['price_per_m2'].quantile([0.05, 0.25, 0.50, 0.75, 0.95])  \n",
    "print(q)\n"
   ]
  },
  {
   "cell_type": "code",
   "execution_count": 43,
   "id": "7d2c7d9f",
   "metadata": {},
   "outputs": [],
   "source": [
    "cuts = [0, 0.25, 0.75, 0.95, 1.00]\n",
    "labels = ['entry', 'mid', 'high', 'luxury']\n",
    "\n",
    "clean['segment'] = pd.qcut(\n",
    "    clean['price_per_m2'],\n",
    "    q=cuts,\n",
    "    labels=labels\n",
    ")\n"
   ]
  },
  {
   "cell_type": "code",
   "execution_count": 44,
   "id": "c5f79a69",
   "metadata": {},
   "outputs": [
    {
     "name": "stderr",
     "output_type": "stream",
     "text": [
      "C:\\Users\\gaj\\AppData\\Local\\Temp\\ipykernel_13436\\1152443216.py:1: FutureWarning: The default of observed=False is deprecated and will be changed to True in a future version of pandas. Pass observed=False to retain current behavior or observed=True to adopt the future default and silence this warning.\n",
      "  clean.groupby('segment')['price_per_m2'] \\\n"
     ]
    },
    {
     "data": {
      "text/html": [
       "<div>\n",
       "<style scoped>\n",
       "    .dataframe tbody tr th:only-of-type {\n",
       "        vertical-align: middle;\n",
       "    }\n",
       "\n",
       "    .dataframe tbody tr th {\n",
       "        vertical-align: top;\n",
       "    }\n",
       "\n",
       "    .dataframe thead th {\n",
       "        text-align: right;\n",
       "    }\n",
       "</style>\n",
       "<table border=\"1\" class=\"dataframe\">\n",
       "  <thead>\n",
       "    <tr style=\"text-align: right;\">\n",
       "      <th></th>\n",
       "      <th>n</th>\n",
       "      <th>min_€/m2</th>\n",
       "      <th>max_€/m2</th>\n",
       "      <th>med_€/m2</th>\n",
       "    </tr>\n",
       "    <tr>\n",
       "      <th>segment</th>\n",
       "      <th></th>\n",
       "      <th></th>\n",
       "      <th></th>\n",
       "      <th></th>\n",
       "    </tr>\n",
       "  </thead>\n",
       "  <tbody>\n",
       "    <tr>\n",
       "      <th>entry</th>\n",
       "      <td>635</td>\n",
       "      <td>216.919740</td>\n",
       "      <td>3025.477707</td>\n",
       "      <td>2283.647944</td>\n",
       "    </tr>\n",
       "    <tr>\n",
       "      <th>mid</th>\n",
       "      <td>1271</td>\n",
       "      <td>3026.315789</td>\n",
       "      <td>4545.454545</td>\n",
       "      <td>3733.766234</td>\n",
       "    </tr>\n",
       "    <tr>\n",
       "      <th>high</th>\n",
       "      <td>504</td>\n",
       "      <td>4545.454545</td>\n",
       "      <td>6280.000000</td>\n",
       "      <td>4997.199750</td>\n",
       "    </tr>\n",
       "    <tr>\n",
       "      <th>luxury</th>\n",
       "      <td>127</td>\n",
       "      <td>6280.991736</td>\n",
       "      <td>9642.916060</td>\n",
       "      <td>7270.029674</td>\n",
       "    </tr>\n",
       "  </tbody>\n",
       "</table>\n",
       "</div>"
      ],
      "text/plain": [
       "            n     min_€/m2     max_€/m2     med_€/m2\n",
       "segment                                             \n",
       "entry     635   216.919740  3025.477707  2283.647944\n",
       "mid      1271  3026.315789  4545.454545  3733.766234\n",
       "high      504  4545.454545  6280.000000  4997.199750\n",
       "luxury    127  6280.991736  9642.916060  7270.029674"
      ]
     },
     "execution_count": 44,
     "metadata": {},
     "output_type": "execute_result"
    }
   ],
   "source": [
    "clean.groupby('segment')['price_per_m2'] \\\n",
    "     .agg(['count','min','max','median']) \\\n",
    "     .rename(columns={'count':'n','min':'min_€/m2','max':'max_€/m2','median':'med_€/m2'})\n"
   ]
  },
  {
   "cell_type": "code",
   "execution_count": 42,
   "id": "ec98ff88",
   "metadata": {},
   "outputs": [
    {
     "data": {
      "image/png": "[encoded data removed]",
      "text/plain": [
       "<Figure size 640x480 with 1 Axes>"
      ]
     },
     "metadata": {},
     "output_type": "display_data"
    }
   ],
   "source": [
    "plt.boxplot(df['price_per_m2'])\n",
    "plt.title(\"Boxplot of price per m2\")\n",
    "plt.ylabel(\"price_per_m2\")\n",
    "plt.grid()\n",
    "plt.show()"
   ]
  },
  {
   "cell_type": "code",
   "execution_count": 34,
   "id": "41c1d245",
   "metadata": {},
   "outputs": [
    {
     "name": "stdout",
     "output_type": "stream",
     "text": [
      "10th percentile: 2061.855670103093\n",
      "90th percentile: 5359.5932585060345\n"
     ]
    }
   ],
   "source": [
    "Q10 = df['price_per_m2'].quantile(0.10)\n",
    "Q90 = df['price_per_m2'].quantile(0.90)\n",
    "\n",
    "print(f\"10th percentile: {Q10}\")\n",
    "print(f\"90th percentile: {Q90}\")"
   ]
  },
  {
   "cell_type": "code",
   "execution_count": null,
   "id": "801523e7",
   "metadata": {},
   "outputs": [],
   "source": [
    "#cleaning the data of excessive outliers\n",
    "# 1. Izračun kvartilov za stolpec 'price'\n",
    "Q1 = df['price_per_m2'].quantile(0.25)\n",
    "Q3 = df['price_per_m2'].quantile(0.75)\n",
    "IQR = Q3 - Q1\n",
    "\n",
    "# 2. Meje za izločanje outlierjev\n",
    "lower_bound = Q1 - 1.5 * IQR\n",
    "upper_bound = Q3 + 1.5 * IQR\n",
    "\n",
    "# 3. Filtriranje vrstic brez outlierjev\n",
    "df_cut =df[(df['price_per_m2'] >= lower_bound) & (df['price_per_m2'] <= upper_bound)].copy()\n"
   ]
  },
  {
   "cell_type": "markdown",
   "id": "ccdd9768",
   "metadata": {},
   "source": [
    "comment: after we cut extreme low and high values, most of the real estate falls in price between what looks like 1400 per m2 and just below 2000m2."
   ]
  },
  {
   "cell_type": "code",
   "execution_count": null,
   "id": "99d8958d",
   "metadata": {},
   "outputs": [],
   "source": [
    "# 🔲 Subplot postavitev\n",
    "fig, axes = plt.subplots(nrows=1, ncols=2, figsize=(12, 6))  # 1 vrstica, 2 stolpca\n",
    "\n",
    "# Boxploti\n",
    "axes[0].boxplot(df['price_per_m2'])\n",
    "axes[0].set_title(\"before cleaning\")\n",
    "axes[0].set_ylabel(\"price\")\n",
    "axes[0].grid(axis='y')\n",
    "\n",
    "axes[1].boxplot(df_cut[\"price_per_m2\"])\n",
    "axes[1].set_title(\"after cleaning\")\n",
    "axes[1].set_ylabel(\"price\")\n",
    "axes[1].grid(axis='y')\n",
    "\n",
    "\n",
    "\n",
    "plt.suptitle(\"comparison of prices with and without outliers 2024\")\n",
    "\n",
    "plt.tight_layout()\n",
    "plt.show()"
   ]
  },
  {
   "cell_type": "code",
   "execution_count": null,
   "id": "50485114",
   "metadata": {},
   "outputs": [],
   "source": [
    "\"\"\"\n",
    "#do a heatmap of the data\n",
    "import seaborn as sns   \n",
    "plt.figure(figsize=(12, 8))\n",
    "# Select only numeric columns for the heatmap\n",
    "numeric_cols = df_cut[['leto_izgradnje', 'total_m2', 'living_space', 'cena', 'is_apartment', 'price_per_m2', 'novogradnja_1']]\n",
    "sns.heatmap(numeric_cols.corr(), annot=True, fmt=\".2f\", cmap='coolwarm', linewidths=.5)\n",
    "plt.title('Correlation Heatmap of Real Estate Data')\n",
    "\"\"\""
   ]
  },
  {
   "cell_type": "code",
   "execution_count": null,
   "id": "384df6d3",
   "metadata": {},
   "outputs": [],
   "source": [
    "df_cut.describe()"
   ]
  },
  {
   "cell_type": "code",
   "execution_count": null,
   "id": "ac385a07",
   "metadata": {},
   "outputs": [],
   "source": [
    "df.sample(10)"
   ]
  },
  {
   "cell_type": "code",
   "execution_count": null,
   "id": "6dcdd816",
   "metadata": {},
   "outputs": [],
   "source": [
    "df_cut.to_csv(r\"power_bi_ready\\gurs_cut\\realestate_2024.csv\", index=False, encoding='utf-8')"
   ]
  },
  {
   "cell_type": "code",
   "execution_count": null,
   "id": "f8b1d282",
   "metadata": {},
   "outputs": [],
   "source": []
  }
 ],
 "metadata": {
  "kernelspec": {
   "display_name": "Python 3",
   "language": "python",
   "name": "python3"
  },
  "language_info": {
   "codemirror_mode": {
    "name": "ipython",
    "version": 3
   },
   "file_extension": ".py",
   "mimetype": "text/x-python",
   "name": "python",
   "nbconvert_exporter": "python",
   "pygments_lexer": "ipython3",
   "version": "3.11.4"
  }
 },
 "nbformat": 4,
 "nbformat_minor": 5
}
